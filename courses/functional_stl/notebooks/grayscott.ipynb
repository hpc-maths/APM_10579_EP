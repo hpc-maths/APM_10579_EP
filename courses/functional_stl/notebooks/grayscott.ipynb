{
 "cells": [
  {
   "cell_type": "markdown",
   "id": "239bb35d-fb67-4577-86e1-717503e7f597",
   "metadata": {},
   "source": [
    "# Gray-Scott model\n",
    "\n",
    "The Gray-Scott equations model reaction and diffusion of chemical species $A$ and $B$ which cna producea variety of patterns.\n",
    "The model is rather simple:\n",
    "\n",
    "$$\n",
    "\\begin{array}{l}\n",
    "\\frac{\\partial A}{\\partial t} = D_A \\Delta A - AB^2 + f(1-A) \\\\\n",
    "\\frac{\\partial B}{\\partial t} = D_B \\Delta B + AB^2 - (k+f)B\n",
    "\\end{array}\n",
    "$$\n",
    "\n",
    "We can approximate the Laplacian with a 5-points finite difference scheme:\n",
    "\n",
    "$$\n",
    "\\Delta A_{i,j} \\approx A_{i,j-1} + A_{i-1,j} -4A_{i,j} + A_{i+1, j} + A_{i, j+1}\n",
    "$$\n",
    "\n",
    "We can approximate the time derivative with an explicit Euler scheme."
   ]
  },
  {
   "cell_type": "markdown",
   "id": "b7074379-18c0-413c-bf4e-3f9638ffca1c",
   "metadata": {},
   "source": [
    "## Initialization\n",
    "\n",
    "We use the following types for vectors and matrices:"
   ]
  },
  {
   "cell_type": "code",
   "execution_count": 1,
   "id": "65fcfa21-21ec-42e8-8aa7-26e5afad9e80",
   "metadata": {
    "tags": []
   },
   "outputs": [],
   "source": [
    "#include <vector>\n",
    "\n",
    "using vector_type = std::vector<double>;\n",
    "using matrix_type = std::vector<vector_type>;"
   ]
  },
  {
   "cell_type": "markdown",
   "id": "591bcd81-a540-4e17-b672-eb2c3ed808f6",
   "metadata": {},
   "source": [
    "On the domain $[0, 1]\\times[0, 1]$, $A$ holds $1$ and $B$ holds $0$ everywhere but on the domain-centered $0.2$-length square. On this square, $A$ holds $0.5$ and $B$ holdes $0.25$. \n",
    "\n",
    "Write an `init_gray_scott` function that initializes the matrices $A$ and $B$. This function should accept the number of points in each direction (squared grid) in addition to $A$ and $B$."
   ]
  },
  {
   "cell_type": "code",
   "execution_count": 2,
   "id": "5dce5ac4-8807-450e-9f8a-ad6373ba89af",
   "metadata": {},
   "outputs": [],
   "source": []
  },
  {
   "cell_type": "markdown",
   "id": "aa6deeab-1fa2-4dfc-b3c0-eff3aef0b066",
   "metadata": {},
   "source": [
    "## Boundary conditions\n",
    "\n",
    "We assume in the following that we have periodic boundary conditions. Write an `apply_boundary_conditoins` function which takes a matrix as parameter and applies it periodic boundary conditions."
   ]
  },
  {
   "cell_type": "code",
   "execution_count": 3,
   "id": "e0477640-41b2-442c-bcfc-2f374c18fd8e",
   "metadata": {},
   "outputs": [],
   "source": []
  },
  {
   "cell_type": "markdown",
   "id": "77f7ea4e-df92-47f8-b802-312bf38900a1",
   "metadata": {
    "tags": []
   },
   "source": [
    "## Laplacian\n",
    "\n",
    "Write a `laplacian` function that takes a `(n, n)`matrix and computes its laplacian into a `(n-2, n-2)` matrix. both matrix should be passed as parameters."
   ]
  },
  {
   "cell_type": "code",
   "execution_count": 4,
   "id": "01ea5615-efb7-497c-9689-7df0e332180e",
   "metadata": {},
   "outputs": [],
   "source": []
  },
  {
   "cell_type": "markdown",
   "id": "b8c9a88c-4c59-4d6c-8521-c681b46fb389",
   "metadata": {},
   "source": [
    "## Gray-scott\n",
    "\n",
    "Write the `grayscott` function which takes $A$, $B$, $D_A$, $D_B$, $f$ et $k$ as inpu parameters and applies the Gray-Scott model. Use an explicite Euler-scheme for the time integration with a step value of $1$. Boudary conditions should be applied after the integration."
   ]
  },
  {
   "cell_type": "code",
   "execution_count": 5,
   "id": "04d68448-206b-4583-a266-1a8e451aa955",
   "metadata": {},
   "outputs": [],
   "source": []
  },
  {
   "cell_type": "markdown",
   "id": "d4ad9f65-da4b-45d0-be4c-b519b450fecf",
   "metadata": {},
   "source": [
    "## Simulation\n",
    "\n",
    "We use the following parameters:"
   ]
  },
  {
   "cell_type": "code",
   "execution_count": 6,
   "id": "8fdf0fa8-fd27-4dfd-9a50-3dad8c406ee9",
   "metadata": {},
   "outputs": [],
   "source": [
    "double Da = 0.1, Db = 0.05;\n",
    "double f = 0.0367, k = 0.0649 ;\n",
    "// double f = 0.0545, k = 0.062;\n",
    "// double f = 0.018, k =0.050;\n",
    "// double f = 0.050, k = 0.065;\n",
    "// double f = 0.035, k = 0.060;"
   ]
  },
  {
   "cell_type": "markdown",
   "id": "bce86477-5c96-4fae-990c-a45f519b6745",
   "metadata": {},
   "source": [
    "We will use the following function to dump the results in a file"
   ]
  },
  {
   "cell_type": "code",
   "execution_count": 7,
   "id": "7554fb5d-c9f4-483f-93ce-811287804e39",
   "metadata": {},
   "outputs": [],
   "source": [
    "#include <algorithm>\n",
    "#include <fstream>\n",
    "#include <iterator>\n",
    "\n",
    "void dump_matrix(std::ofstream& out, const matrix_type& m, size_t iteration)\n",
    "{\n",
    "    out << iteration << '\\n';\n",
    "    out << m.size() << ',' << m[0].size() << '\\n';\n",
    "    std::for_each(m.cbegin(), m.cend(), [&out](const vector_type& v) {\n",
    "        std::copy(v.cbegin(), v.cend(), std::ostream_iterator<double>(out, \",\"));\n",
    "        out << '\\n';\n",
    "    });\n",
    "}"
   ]
  },
  {
   "cell_type": "markdown",
   "id": "6dab5b34-1bbd-46f9-994c-238ebf000749",
   "metadata": {},
   "source": [
    "Write a `solve_grayscott` function that solves the Gray-Scott equations. Use 20000 time steps for the simulation and 301 points for the space mesh. The function should dumps the number of time steps / 40 into the `grayscott.txt` file and then one matrix `B` out of 40."
   ]
  },
  {
   "cell_type": "code",
   "execution_count": 14,
   "id": "33722c1d-b6d8-4c50-9526-945fd70bb8b3",
   "metadata": {},
   "outputs": [],
   "source": []
  }
 ],
 "metadata": {
  "kernelspec": {
   "display_name": "C++14",
   "language": "C++14",
   "name": "xcpp14"
  },
  "language_info": {
   "codemirror_mode": "text/x-c++src",
   "file_extension": ".cpp",
   "mimetype": "text/x-c++src",
   "name": "c++",
   "version": "14"
  }
 },
 "nbformat": 4,
 "nbformat_minor": 5
}
