{
 "cells": [
  {
   "cell_type": "markdown",
   "id": "b072cd47-6bec-409b-a8fa-0506561a5c99",
   "metadata": {},
   "source": [
    "# k-means algorithm\n",
    "\n",
    "k-means clustering (also refered as Lloyd's algorithm) is a method of vector quantization that aims to partition `n` observations into `k` clusters in which each observation belongs to the cluster with the nearest mean (cluster centers or cluster centroid), serving as a prototype of the cluster. This results in a partitioning of the data in Voronoi cells.\n",
    "\n",
    "k-means has many applications, among them:\n",
    "- customer segmentation according to a certain criterion (demographic, purchasing habit, ...)\n",
    "- use of Data Mining clustering when mining data to identify similar individuals\n",
    "- grouping of documents according to their content (Google news grouping documents by theme for instance)\n",
    "\n",
    "## Description\n",
    "\n",
    "Given a set of observations $(\\textbf{x}_{1}, \\textbf{x}_{2}, ..., \\textbf{x}_{n})$, where each observation is a *d*-dimensional real vector, k-means clustering aims to partition the $n$ observations into $k (\\leq n)$ sets $\\textbf{S} = \\{S_{1}, S_{2}, ..., S_{k}\\}$ so as to minimize the within-cluster sum of sqaures (i.e. variance). Formally, the objective is to find:\n",
    "\n",
    "$\\arg\\underset{\\textbf{S}}\\min \\sum_{i=1}^{k} \\sum_{\\textbf{x} \\in S_{i}} \\| \\textbf{x} - \\boldsymbol{\\mu}_{i} \\|^2 = \\arg\\underset{\\textbf{S}}\\min \\sum_{i=1}^{k} |S_{i}| \\text{Var}S_{i}$\n",
    "\n",
    "where $\\boldsymbol{\\mu}_{i}$ is the mean of points in $S_{i}$.\n",
    "\n",
    "Choosing $k$ is not intuitive, especially for large data sets for which we have few knowledge. A usual method is to run the k-means algorithm with different values for $k$ and choose the one for which the variance does not decrease much if we increment it.\n",
    "Plotting the variance function of k shows a decrasing curve that looks like an elbow, therefore this method is refered as the Elbow Method.\n",
    "\n",
    "## Algorithm\n",
    "\n",
    "Given an initial set of $k$ means $m_{1}^{(1)}, m_{2}^{(1)}, ..., m_{k}^{(1)}$, the algorithm proceeds by alternating between two steps:\n",
    "\n",
    "- **Assignment step**: assign each observation to the cluster with the nearest mean (that with the least squared Euclidian distance): $S_{i}^{(t)} = \\{ x_{p} : \\| x_{p} - m_{i}^{(t)}\\|^2 \\leq \\| x_{p} - m_{j}^{(t)}\\|^2 \\forall j, 1 \\leq j \\leq k\\}$, where each $x_{p}$  is assigned to exactly one $S^{(t)}$, even if it could be assigned to two or more of them.\n",
    "- **Update step**:  Recalculate means (centroids) for observations assigned to each cluster: $m_{i}^{(t+1)} = \\frac{1}{|S_{i}^{(t)}|} \\sum_{x_{j} \\in S_{i}^{(t)}} x_{j}$.\n",
    "\n",
    "The algorithm has converged when the assignments no longer change. The algorithm is not guaranteed to find the optimum.\n",
    "\n",
    "Many methods exist for choosing the first $k$ means. In this notebook, we will choose randomly $k$ points from the input data set."
   ]
  },
  {
   "cell_type": "markdown",
   "id": "c1890c72-e4ae-4783-9a41-f3d3354c1ffc",
   "metadata": {},
   "source": [
    "## Implementation 1/4 : utils and initialization"
   ]
  },
  {
   "cell_type": "code",
   "execution_count": null,
   "id": "20a80652-b189-4c9f-aa7b-68036be0cdb0",
   "metadata": {},
   "outputs": [],
   "source": [
    "#include <algorithm>\n",
    "#include <cstdlib>\n",
    "#include <functional>\n",
    "#include <fstream>\n",
    "#include <iostream>\n",
    "#include <iterator>\n",
    "#include <limits>\n",
    "#include <numeric>\n",
    "#include <string>\n",
    "#include <vector>"
   ]
  },
  {
   "cell_type": "markdown",
   "id": "b392e72d-cc23-44f7-96b9-1867c8ea1f76",
   "metadata": {
    "tags": []
   },
   "source": [
    "The following functions are available in C++17 only, thus their implementation in this notebook."
   ]
  },
  {
   "cell_type": "code",
   "execution_count": null,
   "id": "adfc9337-4d70-459b-bef5-75402dcde1ee",
   "metadata": {},
   "outputs": [],
   "source": [
    "template <class InputIt1, class InputIt2, class T, class BinaryTransformOp, class BinaryReduceOp>\n",
    "T transform_reduce(InputIt1 first1, InputIt1 last1, InputIt2 first2, T init, BinaryTransformOp tr_op, BinaryReduceOp red_op)\n",
    "{\n",
    "    T res = init;\n",
    "    while (first1 != last1)\n",
    "    {\n",
    "        res = red_op(res, tr_op(*first1++, *first2++));\n",
    "    }\n",
    "    return res;\n",
    "}\n",
    "\n",
    "template <class InputIt1, class InputIt2, class T, class BinaryTransformOp>\n",
    "T transform_reduce(InputIt1 first1, InputIt1 last1, InputIt2 first2, T init, BinaryTransformOp tr_op)\n",
    "{\n",
    "    return transform_reduce(first1, last1, first2, init, tr_op, std::plus<>());\n",
    "}\n",
    "\n",
    "template <class InputIt1, class InputIt2, class T>\n",
    "T transform_reduce(InputIt1 first1, InputIt1 last1, InputIt2 first2, T init)\n",
    "{\n",
    "    return transform_reduce(first1, last1, first2, init, std::multiplies<>());\n",
    "}"
   ]
  },
  {
   "cell_type": "markdown",
   "id": "7234b7c8-f8d5-447f-a690-364a455ada2f",
   "metadata": {},
   "source": [
    "The following functions can be used for debugging your algorithm:"
   ]
  },
  {
   "cell_type": "code",
   "execution_count": null,
   "id": "51945cd8-f097-4e40-89a6-2286928f3874",
   "metadata": {},
   "outputs": [],
   "source": [
    "template <class T>\n",
    "void print(const std::vector<T>& data)\n",
    "{\n",
    "    std::cout << '{';\n",
    "    std::copy(data.begin(), data.end(), std::ostream_iterator<T>(std::cout, \",\"));\n",
    "    std::cout << \"}\\n\";\n",
    "}\n",
    "\n",
    "template <class T>\n",
    "void print(const std::vector<std::vector<T>>& data)\n",
    "{\n",
    "    std::for_each(data.begin(), data.end(), [](const auto& v) { print(v); });\n",
    "}"
   ]
  },
  {
   "cell_type": "markdown",
   "id": "d2d9c3b1-366f-4b3e-afcb-eeb0e0fdf819",
   "metadata": {
    "tags": []
   },
   "source": [
    "We can now define the types and a function for initializing the data we will use in this notebook."
   ]
  },
  {
   "cell_type": "code",
   "execution_count": null,
   "id": "0f8e6b7c-82e3-4bdc-9e4c-3fdbe3e7131a",
   "metadata": {
    "tags": []
   },
   "outputs": [],
   "source": [
    "using vector_type = std::vector<double>;\n",
    "using matrix_type = std::vector<vector_type>;\n",
    "using cluster_type = std::vector<size_t>;\n",
    "using cluster_set = std::vector<cluster_type>;"
   ]
  },
  {
   "cell_type": "code",
   "execution_count": null,
   "id": "e545cb32-f08f-4b19-8791-195460730772",
   "metadata": {},
   "outputs": [],
   "source": [
    "matrix_type init_data_set(size_t rows, size_t cols)\n",
    "{\n",
    "    matrix_type m (rows, vector_type(cols));\n",
    "    std::for_each(m.begin(), m.end(), [](auto& v) {\n",
    "        std::generate(v.begin(), v.end(), []() { return (rand() / (double)RAND_MAX); });\n",
    "    });\n",
    "    return m;\n",
    "}"
   ]
  },
  {
   "cell_type": "markdown",
   "id": "2e27fe50-a822-4bdd-a95a-2be2cad4fc6b",
   "metadata": {},
   "source": [
    "## Implementation 2/4 : assignment step\n",
    "\n",
    "Write a function that computes the squared Euclidian distance between two observations."
   ]
  },
  {
   "cell_type": "code",
   "execution_count": null,
   "id": "3accc4a5-a6fd-478b-9b75-9d8f4e61cf62",
   "metadata": {
    "tags": []
   },
   "outputs": [],
   "source": [
    "double squared_euclidian(const vector_type& lhs, const vector_type& rhs)"
   ]
  },
  {
   "cell_type": "markdown",
   "id": "b064f84d-0530-4f01-9556-d2f626052d92",
   "metadata": {},
   "source": [
    "Write a function that given the cluster means and an observation, returns the cluster index for that observation."
   ]
  },
  {
   "cell_type": "code",
   "execution_count": null,
   "id": "51e042f0-8f35-4756-8eed-71a644ba28d6",
   "metadata": {},
   "outputs": [],
   "source": [
    "size_t compute_cluster_index(const vector_type& data, const matrix_type& means)"
   ]
  },
  {
   "cell_type": "markdown",
   "id": "4204393b-b694-4f2c-9e7b-b05933c8d3d4",
   "metadata": {},
   "source": [
    "Write a function that assigns each observation to the cluster with the nearest distance."
   ]
  },
  {
   "cell_type": "code",
   "execution_count": null,
   "id": "8ec2ce12-2a1f-4ede-9a08-7ce3989af437",
   "metadata": {},
   "outputs": [],
   "source": [
    "void assign_observations(const matrix_type& data, const matrix_type& means, cluster_set& cluster)"
   ]
  },
  {
   "cell_type": "markdown",
   "id": "a3a35cde-b100-4afd-b576-e88d84f9e28b",
   "metadata": {},
   "source": [
    "## Implementation 3/4 : update step\n",
    "\n",
    "Write a function that computes the mean of a cluster."
   ]
  },
  {
   "cell_type": "code",
   "execution_count": null,
   "id": "31c701ee-5852-4001-a43e-bffa5e969f94",
   "metadata": {},
   "outputs": [],
   "source": [
    "auto compute_cluster_mean(const cluster_type& cluster, const matrix_type& data)"
   ]
  },
  {
   "cell_type": "markdown",
   "id": "a0597a32-8ea3-4b6a-9f12-51a7b8a78c9c",
   "metadata": {},
   "source": [
    "Write a function that computes the means of all clusters."
   ]
  },
  {
   "cell_type": "code",
   "execution_count": null,
   "id": "341fe05d-89ac-449f-a725-c42aa2655083",
   "metadata": {},
   "outputs": [],
   "source": [
    "void compute_centroids(const cluster_set& clusters, const matrix_type& data, matrix_type& means)"
   ]
  },
  {
   "cell_type": "markdown",
   "id": "2cef1af5-7045-4d94-8cda-5ea7123695ca",
   "metadata": {},
   "source": [
    "## Implementation 4/4 : putting everything together\n",
    "\n",
    "Implement the k-means algorithm thanks to the previously defined functions. It takes the data and the number of clusters as arguments, and returns a pair containing the cluster set and the centroids."
   ]
  },
  {
   "cell_type": "code",
   "execution_count": null,
   "id": "46841a0b-8bc0-4d78-9577-bbe1bf5e26ce",
   "metadata": {},
   "outputs": [],
   "source": [
    "matrix_type init_means(const matrix_type& data, size_t k)"
   ]
  },
  {
   "cell_type": "code",
   "execution_count": null,
   "id": "319ff00e-3ac9-4fad-ab05-fc573513d230",
   "metadata": {},
   "outputs": [],
   "source": [
    "auto kmeans(const matrix_type& data, size_t k)"
   ]
  },
  {
   "cell_type": "markdown",
   "id": "6942e5f9-9429-461b-a7f3-a503e22b6c47",
   "metadata": {},
   "source": [
    "## Testing"
   ]
  },
  {
   "cell_type": "code",
   "execution_count": null,
   "id": "a417c66a-4532-47a5-96f3-524350408467",
   "metadata": {},
   "outputs": [],
   "source": [
    "matrix_type data = init_data_set(15, 28);\n",
    "auto res = kmeans(data, 3);\n",
    "print(res.second)"
   ]
  },
  {
   "cell_type": "code",
   "execution_count": null,
   "id": "231b2430-48d4-4eea-bd14-170e39ebde58",
   "metadata": {},
   "outputs": [],
   "source": []
  }
 ],
 "metadata": {
  "kernelspec": {
   "display_name": "C++14",
   "language": "C++14",
   "name": "xcpp14"
  },
  "language_info": {
   "codemirror_mode": "text/x-c++src",
   "file_extension": ".cpp",
   "mimetype": "text/x-c++src",
   "name": "c++",
   "version": "14"
  }
 },
 "nbformat": 4,
 "nbformat_minor": 5
}
