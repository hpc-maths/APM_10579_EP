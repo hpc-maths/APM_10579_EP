{
 "cells": [
  {
   "cell_type": "markdown",
   "id": "8091c847-0920-4475-95ee-027fb1f1e4d4",
   "metadata": {
    "tags": []
   },
   "source": [
    "# Quicksort algorithm\n",
    "\n",
    "Quicksort is a divide-and-conquer algorithm. It works by selecting a 'pivot' element from the array and partitioning the other elements into two sub-arrays, according to whether they are less than or greater than the pivot. The sub-arrays are then sorted recursively. This can be done in-place, requiring small additional amounts of memory to perform the sorting.\n",
    "\n",
    "The steps for in-place quicksort are the following:\n",
    "\n",
    "- If the range has less than two elements, return immediatly.\n",
    "- Otherwise pick a value, called a pivot, that occurs in the range. How you choose depends on the partition routine. In this notebook, we will always choose the last element (Lomuto partition scheme) \n",
    "- Partition the range: reorder its elements, while determining a point of division, so that all elements smaller than the pivot come before the division, while all elements greater than the pivot come after it.\n",
    "- Recursively apply the quicksort algorithm to the sub-range up to the point of division, and to the subrange after it.  "
   ]
  },
  {
   "cell_type": "code",
   "execution_count": null,
   "id": "51fe80b4-1a9d-4bb7-82de-dd45c1055218",
   "metadata": {},
   "outputs": [],
   "source": [
    "#include <cstdlib>\n",
    "#include <iostream>\n",
    "#include <vector>\n",
    "using array_type = std::vector<double>;"
   ]
  },
  {
   "cell_type": "markdown",
   "id": "6c9f5f3f-811b-4839-b9f4-1f46c4f5721b",
   "metadata": {},
   "source": [
    "The next cell initializes the array that we will use for testing."
   ]
  },
  {
   "cell_type": "code",
   "execution_count": null,
   "id": "ab881095-cff3-4099-9d99-e277491ebc2f",
   "metadata": {},
   "outputs": [],
   "source": [
    "array_type a(10u);\n",
    "for (size_t i = 0; i < a.size(); ++i)\n",
    "{\n",
    "    a[i] = (rand() / (double)RAND_MAX);\n",
    "}\n",
    "a"
   ]
  },
  {
   "cell_type": "markdown",
   "id": "aa8d5dd2-9b8c-4f6b-8a7d-cc19e08d7c2d",
   "metadata": {
    "tags": []
   },
   "source": [
    "## Partition\n",
    "\n",
    "Write a function `partition` that partitions an array. It should take the array, the lower bound and the upper bound as arguments, and should return the pivot index."
   ]
  },
  {
   "cell_type": "code",
   "execution_count": null,
   "id": "dc996c39-5777-4a6b-a674-f0012089f1f6",
   "metadata": {},
   "outputs": [],
   "source": [
    "size_t partition(array_type& a, size_t low, size_t high)\n",
    "{\n",
    "    double pivot = a[high];\n",
    "    size_t index = low - 1;\n",
    "    \n",
    "    for (size_t i = low; i < high; ++i)\n",
    "    {\n",
    "        if (a[i] <= pivot)\n",
    "        {\n",
    "            ++index;\n",
    "            std::swap(a[i], a[index]);\n",
    "        }\n",
    "    }\n",
    "    ++index;\n",
    "    std::swap(a[index], a[high]);\n",
    "    return index;\n",
    "}"
   ]
  },
  {
   "cell_type": "markdown",
   "id": "a5dde92b-69d9-4d11-aa2a-a3a724932c95",
   "metadata": {},
   "source": [
    "You can then test your function by executing the next cell. What do you notice?"
   ]
  },
  {
   "cell_type": "code",
   "execution_count": null,
   "id": "657caffe-6997-4d54-8670-41e88f5b74de",
   "metadata": {},
   "outputs": [],
   "source": [
    "size_t index = partition(a, 0u, a.size()-1);\n",
    "std::cout << index << std::endl;\n",
    "a"
   ]
  },
  {
   "cell_type": "markdown",
   "id": "9692fead-aabf-480b-be39-b6bafd618230",
   "metadata": {},
   "source": [
    "## Quicksort\n",
    "\n",
    "Implement the quicksort function, which divides the portion of an array into two partitions and sorts those. The function should take the array, the lower bound and the upper bound as arguments."
   ]
  },
  {
   "cell_type": "code",
   "execution_count": null,
   "id": "cc6926e2-602e-4863-9399-1a6ffd233319",
   "metadata": {},
   "outputs": [],
   "source": [
    "void quicksort(array_type& a, size_t low, size_t high)\n",
    "{\n",
    "    if (low >= high)\n",
    "        return;\n",
    "    \n",
    "    size_t p = partition(a, low, high);\n",
    "    quicksort(a, low, p-1);\n",
    "    quicksort(a, p+1, high);\n",
    "}"
   ]
  },
  {
   "cell_type": "markdown",
   "id": "b70c39bf-7c3f-465b-91c5-5f31590f0307",
   "metadata": {},
   "source": [
    "Then test it in the next cell"
   ]
  },
  {
   "cell_type": "code",
   "execution_count": null,
   "id": "9f39c607-0f06-4a8e-951b-f2b7cc050bfc",
   "metadata": {},
   "outputs": [],
   "source": [
    "quicksort(a, 0, a.size() - 1);\n",
    "a"
   ]
  },
  {
   "cell_type": "markdown",
   "id": "4629ecd5-f58a-4e92-a939-85d3e404a66a",
   "metadata": {},
   "source": [
    "Having to pass the lower and upper bounds is required by the implementation, but not very convenient for the user. How can you improve the API?"
   ]
  }
 ],
 "metadata": {
  "kernelspec": {
   "display_name": "C++14",
   "language": "C++14",
   "name": "xcpp14"
  },
  "language_info": {
   "codemirror_mode": "text/x-c++src",
   "file_extension": ".cpp",
   "mimetype": "text/x-c++src",
   "name": "c++",
   "version": "14"
  },
  "widgets": {
   "application/vnd.jupyter.widget-state+json": {
    "state": {},
    "version_major": 2,
    "version_minor": 0
   }
  }
 },
 "nbformat": 4,
 "nbformat_minor": 5
}
