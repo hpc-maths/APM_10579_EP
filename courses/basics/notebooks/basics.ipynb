{
 "cells": [
  {
   "cell_type": "markdown",
   "metadata": {},
   "source": [
    "<center><strong style='font-size:42px;'>The basics</strong></center>\n",
    "<center><strong style='font-size:22px;'>Practical session</strong></center>"
   ]
  },
  {
   "cell_type": "markdown",
   "metadata": {},
   "source": [
    "In this first practical session, you will familiarize yourself with the language by doing small exercises. As you have seen in the course, C++ is a compiled language and it is therefore necessary to perform an operation (compilation) before being able to execute your code. We have preferred to go step by step and we have not yet introduced this mechanism which will be covered in the third course.\n",
    "\n",
    "To start programming in C++, you will use a notebook where the code cells are seen as a global `main` function and the variables you define can be seen and used from one cell to another. Here is an example"
   ]
  },
  {
   "cell_type": "code",
   "execution_count": 3,
   "metadata": {},
   "outputs": [],
   "source": [
    "int a = 1;"
   ]
  },
  {
   "cell_type": "code",
   "execution_count": 4,
   "metadata": {},
   "outputs": [],
   "source": [
    "int b = 3 + a;"
   ]
  },
  {
   "cell_type": "markdown",
   "metadata": {},
   "source": [
    "To display a variable, just put its name without `;` at the end of the line. Warning: this is only valid in a notebook."
   ]
  },
  {
   "cell_type": "code",
   "execution_count": 5,
   "metadata": {},
   "outputs": [
    {
     "data": {
      "text/plain": [
       "4"
      ]
     },
     "execution_count": 5,
     "metadata": {},
     "output_type": "execute_result"
    }
   ],
   "source": [
    "b"
   ]
  },
  {
   "cell_type": "markdown",
   "metadata": {},
   "source": [
    "If you want to write to the output stream as you would in a C++ script, you must first include `iostream` where the `cout` function is located."
   ]
  },
  {
   "cell_type": "code",
   "execution_count": 6,
   "metadata": {},
   "outputs": [],
   "source": [
    "#include <iostream>"
   ]
  },
  {
   "cell_type": "markdown",
   "metadata": {},
   "source": [
    "Then, you can use `cout`."
   ]
  },
  {
   "cell_type": "code",
   "execution_count": 7,
   "metadata": {},
   "outputs": [
    {
     "name": "stdout",
     "output_type": "stream",
     "text": [
      "b is equal to 4\n"
     ]
    }
   ],
   "source": [
    "std::cout << \"b is equal to \" << b << std::endl;"
   ]
  },
  {
   "cell_type": "markdown",
   "metadata": {},
   "source": [
    "Finally, an important point of notebooks using a C++ kernel is the possibility to give another type to a variable already defined. For example, our `b` can become a string."
   ]
  },
  {
   "cell_type": "code",
   "execution_count": 8,
   "metadata": {},
   "outputs": [],
   "source": [
    "#include <string>"
   ]
  },
  {
   "cell_type": "code",
   "execution_count": 9,
   "metadata": {},
   "outputs": [],
   "source": [
    "std::string b = \"four\";"
   ]
  },
  {
   "cell_type": "code",
   "execution_count": 10,
   "metadata": {},
   "outputs": [
    {
     "data": {
      "text/plain": [
       "\"four\""
      ]
     },
     "execution_count": 10,
     "metadata": {},
     "output_type": "execute_result"
    }
   ],
   "source": [
    "b"
   ]
  },
  {
   "cell_type": "markdown",
   "metadata": {},
   "source": [
    "This is very convenient when developing small prototypes in notebooks. But keep in mind that this is not a valid C++ behavior and you can't do this when using C++ scripts."
   ]
  },
  {
   "cell_type": "markdown",
   "metadata": {
    "tags": []
   },
   "source": [
    "After this brief introduction, let's move on to the exercises!\n",
    "\n",
    "## Type manipulation and first tests\n",
    "---"
   ]
  },
  {
   "cell_type": "markdown",
   "metadata": {
    "tags": []
   },
   "source": [
    "1. Initialize several variables by giving them the names you want and display their values."
   ]
  },
  {
   "cell_type": "code",
   "execution_count": null,
   "metadata": {},
   "outputs": [],
   "source": []
  },
  {
   "cell_type": "markdown",
   "metadata": {},
   "source": [
    "2. Include the header file `limits` et display the min and max limits for `int`, `float` et `double` types (cf https://en.cppreference.com/w/cpp/types/numeric_limits)."
   ]
  },
  {
   "cell_type": "code",
   "execution_count": null,
   "metadata": {},
   "outputs": [],
   "source": []
  },
  {
   "cell_type": "markdown",
   "metadata": {},
   "source": [
    "3- We want to swap two real numbers `a` and `b` without using an intermediate variable by using the following algorithm\n",
    "\n",
    "```\n",
    "a = a + b\n",
    "b = a - b\n",
    "a = a - b\n",
    "```\n",
    "\n",
    "Write this algorithm using the type `float` for `a` and `b` with the following initial values\n",
    "\n",
    "- `a` is equal to 1 and `b` is equal to 2\n",
    "- `a` is equal to 1 and `b` is equal to 1e-10\n",
    "\n",
    "Do the same using the `double` type.\n",
    "\n",
    "Can you explain the behavior observed for the type `float` with the second case?"
   ]
  },
  {
   "cell_type": "code",
   "execution_count": null,
   "metadata": {},
   "outputs": [],
   "source": []
  },
  {
   "cell_type": "markdown",
   "metadata": {},
   "source": [
    "## Control structures\n",
    "---"
   ]
  },
  {
   "cell_type": "markdown",
   "metadata": {},
   "source": [
    "1- Write with a `for` loop and then with a `while` loop the computation of $n!$. At the end, we will write the result to check the validity of the implementation. "
   ]
  },
  {
   "cell_type": "code",
   "execution_count": null,
   "metadata": {},
   "outputs": [],
   "source": []
  },
  {
   "cell_type": "markdown",
   "metadata": {},
   "source": [
    "2- Write an algorithm that gives the binary representation of a signed integer. We will use `std::vector` to store the values and display them at the end in the right order.\n",
    "\n",
    "To do this, you must first include `vector`."
   ]
  },
  {
   "cell_type": "code",
   "execution_count": 13,
   "metadata": {},
   "outputs": [],
   "source": [
    "#include <vector>"
   ]
  },
  {
   "cell_type": "markdown",
   "metadata": {},
   "source": [
    "Here is a simple example where we create a boolean vector of size 10. By default, the values are initialized to 0. We then set every second value to 1 and display it."
   ]
  },
  {
   "cell_type": "code",
   "execution_count": 14,
   "metadata": {},
   "outputs": [],
   "source": [
    "std::vector<bool> v(10);\n",
    "\n",
    "for (std::size_t i = 0; i < v.size(); i+=2)\n",
    "{\n",
    "    v[i] = 1;\n",
    "}"
   ]
  },
  {
   "cell_type": "code",
   "execution_count": 15,
   "metadata": {},
   "outputs": [
    {
     "data": {
      "text/plain": [
       "{ true, false, true, false, true, false, true, false, true, false }"
      ]
     },
     "execution_count": 15,
     "metadata": {},
     "output_type": "execute_result"
    }
   ],
   "source": [
    "v"
   ]
  },
  {
   "cell_type": "code",
   "execution_count": 43,
   "metadata": {},
   "outputs": [
    {
     "name": "stdout",
     "output_type": "stream",
     "text": [
      "1 0 1 0 1 0 1 0 1 0 "
     ]
    }
   ],
   "source": [
    "for (std::size_t i = 0; i < v.size(); ++i)\n",
    "{\n",
    "    std::cout << v[i] << \" \";\n",
    "}"
   ]
  },
  {
   "cell_type": "code",
   "execution_count": null,
   "metadata": {},
   "outputs": [],
   "source": []
  },
  {
   "cell_type": "markdown",
   "metadata": {},
   "source": [
    "3- To represent a signed integer `a`, we use the two's complement. The most left bit represents the sign (`0` for positive and `-1` for negative). The algorithm is as follows:\n",
    "\n",
    "- Set the sign on the most significant bit.\n",
    "- On the other bits, represent the number `a` if `a` is positive, `-a` otherwise in binary format.\n",
    "- Carry out the complement to 1 on these bits which is the same as inverting the bits (0 becomes 1 and 1 becomes 0).\n",
    "- Add 1.\n",
    "\n",
    "We can check the result by using `bitset` from the standard library. Here is an example of use"
   ]
  },
  {
   "cell_type": "code",
   "execution_count": 44,
   "metadata": {},
   "outputs": [
    {
     "name": "stdout",
     "output_type": "stream",
     "text": [
      "1111111111111110\n"
     ]
    }
   ],
   "source": [
    "#include <bitset>\n",
    "std::cout << std::bitset<sizeof(short)*8>(-2) << std::endl;"
   ]
  },
  {
   "cell_type": "code",
   "execution_count": null,
   "metadata": {},
   "outputs": [],
   "source": []
  },
  {
   "cell_type": "markdown",
   "metadata": {},
   "source": [
    "## Zeller's congruence\n",
    "---"
   ]
  },
  {
   "cell_type": "markdown",
   "metadata": {},
   "source": [
    "The Zeller's congruence is an algorithm to calculate the day of the week for any date of the Gregorian or Julian calendar.\n",
    "\n",
    "For the Gregorian calendar, the Zeller's congruence is given by the following formula\n",
    "\n",
    "$$\n",
    "h = \\left( q + \\left\\lfloor \\frac{13(m+1)}{5} \\right\\rfloor + K + \\left\\lfloor \\frac{K}{4}  \\right\\rfloor + \\left\\lfloor \\frac{J}{4}  \\right\\rfloor + 5J \\right) \\mod 7\n",
    "$$\n",
    "\n",
    "where\n",
    "\n",
    "- $h$ is the day of the week (0=Saturday, 1=Sunday, 2=Monday, ..., 6=Friday)\n",
    "- $q$ is the day of the month\n",
    "- $m$ is the month (3=March, 4=April, ... 14=February)\n",
    "- $K$ is the year of the century (year mod 100)\n",
    "- $J$ is $\\left\\lfloor year/100 \\right\\rfloor$\n",
    "- $\\left\\lfloor \\cdots \\right\\rfloor$ is the lower integer part"
   ]
  },
  {
   "cell_type": "markdown",
   "metadata": {},
   "source": [
    "**Note**: by default, the integer division in C++ gives the lower integer part."
   ]
  },
  {
   "cell_type": "markdown",
   "metadata": {},
   "source": [
    "Write this algorithm in C++ and validate with the following dates\n",
    "\n",
    "- January 4, 2022: Tuesday\n",
    "- July 21, 1969: Monday\n",
    "- August 11, 1999: Wednesday"
   ]
  },
  {
   "cell_type": "code",
   "execution_count": null,
   "metadata": {},
   "outputs": [],
   "source": []
  },
  {
   "cell_type": "markdown",
   "metadata": {},
   "source": [
    "##  Linear congruent generator\n",
    "---"
   ]
  },
  {
   "cell_type": "markdown",
   "metadata": {},
   "source": [
    "The generation of pseudo-random numbers is used in many fields: in cryptography, in video games for texture creation, in simulation (for the Monte Carlo method for example), ... They have become more and more complex over the years to allow ciphers that are more and more difficult to crack. The increase of the computing power of computers has played a great role.\n",
    "\n",
    "We will focus here on one of the first pseudo-random number generators which is quite simple. It is written\n",
    "\n",
    "$$\n",
    "X_{n+1} = \\left( a X_n + c \\right) \\mod m\n",
    "$$\n",
    "\n",
    "where $a$ is the multiplier, $c$ the increment and $m$ the modulus.\n",
    "\n",
    "Write the algorithm to write the first 20 terms of the sequence by taking $a=25$, $c=16$ and $m=256$. We will take different values of $X_0$ called the \"seed\".\n",
    "\n",
    "- $X_0 = 125$\n",
    "- $X_0 = 96$\n",
    "- $X_0 = 50$\n",
    "- $X_0 = 10$"
   ]
  },
  {
   "cell_type": "code",
   "execution_count": null,
   "metadata": {},
   "outputs": [],
   "source": []
  },
  {
   "cell_type": "markdown",
   "metadata": {},
   "source": [
    "We see that the choice of the coefficients $a$, $c$ and $m$ is important to have a good quality generator. One of the criteria of good quality is to be able to have all the values between $0$ and $m-1$ for any seed $X_0$. This is called maximizing the period of the generator.\n",
    "\n",
    "Now, the good thing about this generator is that the properties on $a$ and $c$ to get a period of $m$ are known.\n",
    "\n",
    "If $c \\neq 0$, the period of a linear congruential generator is maximal if and only if:\n",
    "\n",
    "- $c$ is prime with $m$. $gcd(c,m)=1$.\n",
    "- For each prime $p$ dividing $m$, $(a-1)$ is a multiple of $p$.\n",
    "- $(a-1)$ is a multiple of $4$ if $m$ is one.\n",
    "\n",
    "\n",
    "If $c=0$, the period of a linear congruential generator is maximal if :\n",
    "\n",
    "- $m$ is prime.\n",
    "- $a^{m-1}-1$ is a multiple of $m$.\n",
    "- $a^{j}-1$ is not divisible by $m$, for $j=1,\\cdots, m-2$. \n",
    "\n",
    "We can see that we need two ingredients to find optimal values of $a$ and $c$. First, we need to compute a $gcd$ (greatest common divisor). We can use Euclid's algorithm for this which is given by the following pseudo-code\n",
    "\n",
    "```\n",
    "function gcd(a, b)\n",
    "    while b ≠ 0\n",
    "        t := b\n",
    "        b := a mod b\n",
    "        a := t\n",
    "    return a\n",
    "```\n",
    "\n",
    "Since we haven't seen the functions yet, you will write this algorithm directly in a cell."
   ]
  },
  {
   "cell_type": "code",
   "execution_count": null,
   "metadata": {},
   "outputs": [],
   "source": []
  },
  {
   "cell_type": "markdown",
   "metadata": {},
   "source": [
    "Now that we can compute $gcd$, we need to find the primes that divide $m$. Write an algorithm that gives the prime numbers. We recall that a prime number is only divisible by itself and $1$."
   ]
  },
  {
   "cell_type": "code",
   "execution_count": null,
   "metadata": {},
   "outputs": [],
   "source": []
  },
  {
   "cell_type": "markdown",
   "metadata": {},
   "source": [
    "Find the values of $a$ and $c$ that allow to have an optimal period for the linear congruent generator. Let $a$ and $c$ be positive and less than $m$. We will separate the cases $c \\neq 0$ and $c=0$ and we will take respectively $m=24$ and $m=23$."
   ]
  },
  {
   "cell_type": "code",
   "execution_count": null,
   "metadata": {},
   "outputs": [],
   "source": []
  },
  {
   "cell_type": "markdown",
   "metadata": {},
   "source": [
    "We will check for some values found that the period is indeed optimal."
   ]
  },
  {
   "cell_type": "code",
   "execution_count": null,
   "metadata": {},
   "outputs": [],
   "source": []
  },
  {
   "cell_type": "markdown",
   "metadata": {},
   "source": [
    "## Cycle search\n",
    "---"
   ]
  },
  {
   "cell_type": "markdown",
   "metadata": {},
   "source": [
    "During the construction of a pseudo-random number generator, we saw that it was important to have a maximal period, that is equal to $m$. We would like to know for a set of parameters $a$, $c$, $m$ and $X_0$ what the period is and check that it is optimal.\n",
    "\n",
    "To do this, we will implement different algortihms that search for cycles in a recurrent sequence of numbers."
   ]
  },
  {
   "cell_type": "markdown",
   "metadata": {},
   "source": [
    "### Floyd algorithm"
   ]
  },
  {
   "cell_type": "markdown",
   "metadata": {},
   "source": [
    "Floyd's cycle detection algorithm is based on the following property: if the sequence admits a cycle, then there exists an index $i$ with $a_{i}=a_{2i}$ and $\\mu \\leq i \\leq \\mu + \\lambda$. Thus, the algorithm consists in going through the sequence simultaneously at two different speeds: at speed 1 for the tortoise and at speed 2 for the hare. In other words, the algorithm inspects the pairs:\n",
    "\n",
    "($a_1$, $a_2$), ($a_2$, $a_4$), ($a_3$, $a_6$), ($a_4$, $a_8$), etc.\n",
    "\n",
    "The algorithm finds the first index $i$ such that $a_{i}=a_{2i}$. From then on, $2 i - i = i$ is a multiple of the length of the cycle $\\lambda$.\n",
    "\n",
    "To determine the exact value of $\\lambda$, we just have to run the algorithm again from $i+1$, until we find another number $i_{1}$ such that $a_{i_{1}}=a_{2{i_{1}}}$. From then on we have on the one hand $i_{1} \\leq i + \\lambda$ (because we then find $a_{i}$) and on the other hand $\\lambda$ which divides $i_{1}-i$ (because it divides $i$ and $i_{1}$), therefore $\\lambda = i_{1}-i$.\n",
    "\n",
    "We will apply this algorithm to the linear congruential generator where the sequence is given by\n",
    "\n",
    "$$\n",
    "X_{n+1} = f(X_n) = (aX_n + c) \\mod m.\n",
    "$$\n",
    "\n",
    "The pseudo-code to find the index $i$ in the cycle can be written as\n",
    "\n",
    "```\n",
    "i := 1\n",
    "tortoise := f(x0)\n",
    "hare := f(f(x0))\n",
    "\n",
    "while tortoise != hare\n",
    "    tortoise := f(tortoise)\n",
    "    hare := f(f(hare))\n",
    "    i := i + 1\n",
    "```\n",
    "\n",
    "Write this algorithm in C++."
   ]
  },
  {
   "cell_type": "code",
   "execution_count": null,
   "metadata": {},
   "outputs": [],
   "source": []
  },
  {
   "cell_type": "markdown",
   "metadata": {},
   "source": [
    "We can now find the period $i_{1}$ by repeating the process from $i + 1$ until we find another number $i_{1}$ such that $a_{i_{1}}=a_{2{i_{1}}}$."
   ]
  },
  {
   "cell_type": "code",
   "execution_count": null,
   "metadata": {},
   "outputs": [],
   "source": []
  },
  {
   "cell_type": "markdown",
   "metadata": {},
   "source": [
    "### Brent algorithm"
   ]
  },
  {
   "cell_type": "markdown",
   "metadata": {},
   "source": [
    "Richard P. Brent has described another cycle detection algorithm which, like the tortoise and hare algorithm, requires only two pointers in the sequence. However, it is based on a different principle: finding the smallest power of two $2^i$ that is greater than $\\lambda$ and $\\mu$. For $i = 0, 1, 2, \\cdots$, the algorithm compares $x_{2^i-1}$ with each subsequent sequence value up to the next power of two, stopping when it finds a match. It has two advantages over the hare and tortoise algorithm: it finds the correct length $\\lambda$ of the cycle directly, without having to search for it in a later step, and its steps involve only one evaluation of $f$ instead of three in the case of Floyd's algorithm. \n",
    "\n",
    "The pseudo-code is as follows\n",
    "\n",
    "```\n",
    "lambda := 1\n",
    "power := 1\n",
    "tortoise := x0\n",
    "hare := f(x0)\n",
    "while tortoise != hare\n",
    "    if power == lambda\n",
    "        tortoise := hare\n",
    "        power := 2*power\n",
    "        lambda := 0\n",
    "        \n",
    "    hare := f(hare)\n",
    "    lambda := lambda + 1\n",
    "```\n",
    "\n",
    "Write this algorithm in C++."
   ]
  },
  {
   "cell_type": "code",
   "execution_count": null,
   "metadata": {},
   "outputs": [],
   "source": []
  },
  {
   "cell_type": "markdown",
   "metadata": {},
   "source": [
    "## Verification\n",
    "---"
   ]
  },
  {
   "cell_type": "markdown",
   "metadata": {},
   "source": [
    "Check that the values found for $a$, $c$, and $m$ give a maximal period for any value of seed."
   ]
  },
  {
   "cell_type": "code",
   "execution_count": null,
   "metadata": {},
   "outputs": [],
   "source": []
  }
 ],
 "metadata": {
  "kernelspec": {
   "display_name": "C++14",
   "language": "C++14",
   "name": "xcpp14"
  },
  "language_info": {
   "codemirror_mode": "text/x-c++src",
   "file_extension": ".cpp",
   "mimetype": "text/x-c++src",
   "name": "c++",
   "version": "14"
  },
  "widgets": {
   "application/vnd.jupyter.widget-state+json": {
    "state": {},
    "version_major": 2,
    "version_minor": 0
   }
  }
 },
 "nbformat": 4,
 "nbformat_minor": 4
}
