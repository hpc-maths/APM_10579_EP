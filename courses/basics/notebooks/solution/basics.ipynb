{
 "cells": [
  {
   "cell_type": "markdown",
   "metadata": {},
   "source": [
    "<center><strong style='font-size:42px;'>The basics</strong></center>\n",
    "<center><strong style='font-size:22px;'>Practical session</strong></center>"
   ]
  },
  {
   "cell_type": "markdown",
   "metadata": {},
   "source": [
    "In this first practical session, you will familiarize yourself with the language by doing small exercises. As you have seen in the course, C++ is a compiled language and it is therefore necessary to perform an operation (compilation) before being able to execute your code. We have preferred to go step by step and we have not yet introduced this mechanism which will be covered in the third course.\n",
    "\n",
    "To start programming in C++, you will use a notebook where the code cells are seen as a global `main` function and the variables you define can be seen and used from one cell to another. Here is an example"
   ]
  },
  {
   "cell_type": "code",
   "execution_count": 3,
   "metadata": {},
   "outputs": [],
   "source": [
    "int a = 1;"
   ]
  },
  {
   "cell_type": "code",
   "execution_count": 4,
   "metadata": {},
   "outputs": [],
   "source": [
    "int b = 3 + a;"
   ]
  },
  {
   "cell_type": "markdown",
   "metadata": {},
   "source": [
    "To display a variable, just put its name without `;` at the end of the line. Warning: this is only valid in a notebook."
   ]
  },
  {
   "cell_type": "code",
   "execution_count": 5,
   "metadata": {},
   "outputs": [
    {
     "data": {
      "text/plain": [
       "4"
      ]
     },
     "execution_count": 5,
     "metadata": {},
     "output_type": "execute_result"
    }
   ],
   "source": [
    "b"
   ]
  },
  {
   "cell_type": "markdown",
   "metadata": {},
   "source": [
    "If you want to write to the output stream as you would in a C++ script, you must first include `iostream` where the `cout` function is located."
   ]
  },
  {
   "cell_type": "code",
   "execution_count": 2,
   "metadata": {},
   "outputs": [],
   "source": [
    "#include <iostream>"
   ]
  },
  {
   "cell_type": "markdown",
   "metadata": {},
   "source": [
    "Then, you can use `cout`."
   ]
  },
  {
   "cell_type": "code",
   "execution_count": 7,
   "metadata": {},
   "outputs": [
    {
     "name": "stdout",
     "output_type": "stream",
     "text": [
      "b is equal to 4\n"
     ]
    }
   ],
   "source": [
    "std::cout << \"b is equal to \" << b << std::endl;"
   ]
  },
  {
   "cell_type": "markdown",
   "metadata": {},
   "source": [
    "Finally, an important point of notebooks using a C++ kernel is the possibility to give another type to a variable already defined. For example, our `b` can become a string."
   ]
  },
  {
   "cell_type": "code",
   "execution_count": 8,
   "metadata": {},
   "outputs": [],
   "source": [
    "#include <string>"
   ]
  },
  {
   "cell_type": "code",
   "execution_count": 9,
   "metadata": {},
   "outputs": [],
   "source": [
    "std::string b = \"four\";"
   ]
  },
  {
   "cell_type": "code",
   "execution_count": 10,
   "metadata": {},
   "outputs": [
    {
     "data": {
      "text/plain": [
       "\"four\""
      ]
     },
     "execution_count": 10,
     "metadata": {},
     "output_type": "execute_result"
    }
   ],
   "source": [
    "b"
   ]
  },
  {
   "cell_type": "markdown",
   "metadata": {},
   "source": [
    "This is very convenient when developing small prototypes in notebooks. But keep in mind that this is not a valid C++ behavior and you can't do this when using C++ scripts."
   ]
  },
  {
   "cell_type": "markdown",
   "metadata": {
    "tags": []
   },
   "source": [
    "After this brief introduction, let's move on to the exercises!\n",
    "\n",
    "## Type manipulation and first tests\n",
    "---"
   ]
  },
  {
   "cell_type": "markdown",
   "metadata": {
    "tags": []
   },
   "source": [
    "1. Initialize several variables by giving them the names you want and display their values."
   ]
  },
  {
   "cell_type": "code",
   "execution_count": null,
   "metadata": {},
   "outputs": [],
   "source": []
  },
  {
   "cell_type": "markdown",
   "metadata": {},
   "source": [
    "2. Include the header file `limits` et display the min and max limits for `int`, `float` et `double` types (cf https://en.cppreference.com/w/cpp/types/numeric_limits)."
   ]
  },
  {
   "cell_type": "code",
   "execution_count": null,
   "metadata": {},
   "outputs": [],
   "source": []
  },
  {
   "cell_type": "markdown",
   "metadata": {},
   "source": [
    "3- We want to swap two real numbers `a` and `b` without using an intermediate variable by using the following algorithm\n",
    "\n",
    "```\n",
    "a = a + b\n",
    "b = a - b\n",
    "a = a - b\n",
    "```\n",
    "\n",
    "Write this algorithm using the type `float` for `a` and `b` with the following initial values\n",
    "\n",
    "- `a` is equal to 1 and `b` is equal to 2\n",
    "- `a` is equal to 1 and `b` is equal to 1e-10\n",
    "\n",
    "Do the same using the `double` type.\n",
    "\n",
    "Can you explain the behavior observed for the type `float` with the second case?"
   ]
  },
  {
   "cell_type": "code",
   "execution_count": null,
   "metadata": {},
   "outputs": [],
   "source": []
  },
  {
   "cell_type": "markdown",
   "metadata": {},
   "source": [
    "## Control structures\n",
    "---"
   ]
  },
  {
   "cell_type": "markdown",
   "metadata": {},
   "source": [
    "1- Write with a `for` loop and then with a `while` loop the computation of $n!$. At the end, we will write the result to check the validity of the implementation. "
   ]
  },
  {
   "cell_type": "markdown",
   "metadata": {},
   "source": [
    "**Possible answer**"
   ]
  },
  {
   "cell_type": "code",
   "execution_count": 11,
   "metadata": {},
   "outputs": [
    {
     "data": {
      "text/plain": [
       "3628800"
      ]
     },
     "execution_count": 11,
     "metadata": {},
     "output_type": "execute_result"
    }
   ],
   "source": [
    "std::size_t result = 1;\n",
    "for(std::size_t n = 1; n <= 10; ++n)\n",
    "{\n",
    "    result *= n;\n",
    "}\n",
    "result"
   ]
  },
  {
   "cell_type": "code",
   "execution_count": 12,
   "metadata": {},
   "outputs": [
    {
     "data": {
      "text/plain": [
       "3628800"
      ]
     },
     "execution_count": 12,
     "metadata": {},
     "output_type": "execute_result"
    }
   ],
   "source": [
    "std::size_t result = 1, n = 10;\n",
    "while (n > 1)\n",
    "{\n",
    "    result *= n--;\n",
    "}\n",
    "result"
   ]
  },
  {
   "cell_type": "markdown",
   "metadata": {},
   "source": [
    "2- Write an algorithm that gives the binary representation of a signed integer. We will use `std::vector` to store the values and display them at the end in the right order.\n",
    "\n",
    "To do this, you must first include `vector`."
   ]
  },
  {
   "cell_type": "code",
   "execution_count": 13,
   "metadata": {},
   "outputs": [],
   "source": [
    "#include <vector>"
   ]
  },
  {
   "cell_type": "markdown",
   "metadata": {},
   "source": [
    "Here is a simple example where we create a boolean vector of size 10. By default, the values are initialized to 0. We then set every second value to 1 and display it."
   ]
  },
  {
   "cell_type": "code",
   "execution_count": 14,
   "metadata": {},
   "outputs": [],
   "source": [
    "std::vector<bool> v(10);\n",
    "\n",
    "for (std::size_t i = 0; i < v.size(); i+=2)\n",
    "{\n",
    "    v[i] = 1;\n",
    "}"
   ]
  },
  {
   "cell_type": "code",
   "execution_count": 15,
   "metadata": {},
   "outputs": [
    {
     "data": {
      "text/plain": [
       "{ true, false, true, false, true, false, true, false, true, false }"
      ]
     },
     "execution_count": 15,
     "metadata": {},
     "output_type": "execute_result"
    }
   ],
   "source": [
    "v"
   ]
  },
  {
   "cell_type": "code",
   "execution_count": 16,
   "metadata": {},
   "outputs": [
    {
     "name": "stdout",
     "output_type": "stream",
     "text": [
      "1 0 1 0 1 0 1 0 1 0 "
     ]
    }
   ],
   "source": [
    "for (std::size_t i = 0; i < v.size(); ++i)\n",
    "{\n",
    "    std::cout << v[i] << \" \";\n",
    "}"
   ]
  },
  {
   "cell_type": "markdown",
   "metadata": {
    "tags": []
   },
   "source": [
    "**Possible answer**"
   ]
  },
  {
   "cell_type": "code",
   "execution_count": 17,
   "metadata": {},
   "outputs": [],
   "source": [
    "ushort a = 11;\n",
    "std::size_t index = 0;\n",
    "\n",
    "std::vector<bool> bin_a(sizeof(a)*8);\n",
    "\n",
    "while (a != 0)\n",
    "{\n",
    "    bin_a[index++] = (a & 1);\n",
    "    a >>= 1;\n",
    "}"
   ]
  },
  {
   "cell_type": "code",
   "execution_count": 18,
   "metadata": {},
   "outputs": [
    {
     "name": "stdout",
     "output_type": "stream",
     "text": [
      "0000000000001011"
     ]
    }
   ],
   "source": [
    "for (int i = bin_a.size() - 1; i > -1; --i)\n",
    "{\n",
    "    std::cout << bin_a[i];\n",
    "}"
   ]
  },
  {
   "cell_type": "markdown",
   "metadata": {},
   "source": [
    "3- To represent a signed integer `a`, we use the two's complement. The most left bit represents the sign (`0` for positive and `-1` for negative). The algorithm is as follows:\n",
    "\n",
    "- Set the sign on the most significant bit.\n",
    "- On the other bits, represent the number `a` if `a` is positive, `-a` otherwise in binary format.\n",
    "- Carry out the complement to 1 on these bits which is the same as inverting the bits (0 becomes 1 and 1 becomes 0).\n",
    "- Add 1.\n",
    "\n",
    "We can check the result by using `bitset` from the standard library. Here is an example of use"
   ]
  },
  {
   "cell_type": "code",
   "execution_count": 19,
   "metadata": {},
   "outputs": [
    {
     "name": "stdout",
     "output_type": "stream",
     "text": [
      "1111111111111110\n"
     ]
    }
   ],
   "source": [
    "#include <bitset>\n",
    "std::cout << std::bitset<sizeof(short)*8>(-2) << std::endl;"
   ]
  },
  {
   "cell_type": "markdown",
   "metadata": {},
   "source": [
    "**Possible answer**"
   ]
  },
  {
   "cell_type": "code",
   "execution_count": 20,
   "metadata": {},
   "outputs": [],
   "source": [
    "short a = -2;\n",
    "std::size_t index = 0;\n",
    "std::vector<bool> bin_a(sizeof(a)*8);\n",
    "\n",
    "bin_a[bin_a.size() - 1] = (a >= 0)? 0: 1;\n",
    "short c = (a >= 0)? a: -a;\n",
    "while (c != 0 && index < bin_a.size() - 1)\n",
    "{\n",
    "    bin_a[index++] = (c & 1);\n",
    "    c >>= 1;\n",
    "}"
   ]
  },
  {
   "cell_type": "code",
   "execution_count": 21,
   "metadata": {},
   "outputs": [],
   "source": [
    "for (std::size_t i = 0; i < bin_a.size()-1; ++i)\n",
    "{\n",
    "    bin_a[i] = !bin_a[i];\n",
    "}"
   ]
  },
  {
   "cell_type": "code",
   "execution_count": 22,
   "metadata": {},
   "outputs": [],
   "source": [
    "bool ret = true;\n",
    "std::size_t index = 0;\n",
    "\n",
    "while (ret and index < bin_a.size()-1)\n",
    "{\n",
    "    ret = bin_a[index] & 1;\n",
    "    bin_a[index] = bin_a[index] ^ 1;\n",
    "    index++;\n",
    "}"
   ]
  },
  {
   "cell_type": "code",
   "execution_count": 23,
   "metadata": {},
   "outputs": [
    {
     "name": "stdout",
     "output_type": "stream",
     "text": [
      "1111111111111110"
     ]
    }
   ],
   "source": [
    "for (int i = bin_a.size() - 1; i > -1; --i)\n",
    "{\n",
    "    std::cout << bin_a[i];\n",
    "}"
   ]
  },
  {
   "cell_type": "markdown",
   "metadata": {},
   "source": [
    "## Zeller's congruence\n",
    "---"
   ]
  },
  {
   "cell_type": "markdown",
   "metadata": {},
   "source": [
    "The Zeller's congruence is an algorithm to calculate the day of the week for any date of the Gregorian or Julian calendar.\n",
    "\n",
    "For the Gregorian calendar, the Zeller's congruence is given by the following formula\n",
    "\n",
    "$$\n",
    "h = \\left( q + \\left\\lfloor \\frac{13(m+1)}{5} \\right\\rfloor + K + \\left\\lfloor \\frac{K}{4}  \\right\\rfloor + \\left\\lfloor \\frac{J}{4}  \\right\\rfloor + 5J \\right) \\mod 7\n",
    "$$\n",
    "\n",
    "where\n",
    "\n",
    "- $h$ is the day of the week (0=Saturday, 1=Sunday, 2=Monday, ..., 6=Friday)\n",
    "- $q$ is the day of the month\n",
    "- $m$ is the month (3=March, 4=April, ... 14=February)\n",
    "- $K$ is the year of the century (year mod 100)\n",
    "- $J$ is $\\left\\lfloor year/100 \\right\\rfloor$\n",
    "- $\\left\\lfloor \\cdots \\right\\rfloor$ is the lower integer part"
   ]
  },
  {
   "cell_type": "markdown",
   "metadata": {},
   "source": [
    "**Note**: by default, the integer division in C++ gives the lower integer part."
   ]
  },
  {
   "cell_type": "markdown",
   "metadata": {},
   "source": [
    "Write this algorithm in C++ and validate with the following dates\n",
    "\n",
    "- January 4, 2022: Tuesday\n",
    "- July 21, 1969: Monday\n",
    "- August 11, 1999: Wednesday"
   ]
  },
  {
   "cell_type": "markdown",
   "metadata": {},
   "source": [
    "**Possible answer**"
   ]
  },
  {
   "cell_type": "code",
   "execution_count": 14,
   "metadata": {},
   "outputs": [],
   "source": [
    "std::size_t day = 4;\n",
    "std::size_t month = 13;\n",
    "std::size_t year = 2021;"
   ]
  },
  {
   "cell_type": "code",
   "execution_count": 19,
   "metadata": {},
   "outputs": [],
   "source": [
    "std::size_t day = 21;\n",
    "std::size_t month = 7;\n",
    "std::size_t year = 1969;"
   ]
  },
  {
   "cell_type": "code",
   "execution_count": 20,
   "metadata": {},
   "outputs": [],
   "source": [
    "std::size_t day = 11;\n",
    "std::size_t month = 8;\n",
    "std::size_t year = 1999;"
   ]
  },
  {
   "cell_type": "code",
   "execution_count": 21,
   "metadata": {},
   "outputs": [],
   "source": [
    "std::size_t K = year%100;\n",
    "std::size_t J = year/100;"
   ]
  },
  {
   "cell_type": "code",
   "execution_count": 23,
   "metadata": {},
   "outputs": [
    {
     "data": {
      "text/plain": [
       "4"
      ]
     },
     "execution_count": 23,
     "metadata": {},
     "output_type": "execute_result"
    }
   ],
   "source": [
    "(day + 13*(month + 1)/5 + K + K/4 + J/4 + 5*J)%7"
   ]
  },
  {
   "cell_type": "markdown",
   "metadata": {},
   "source": [
    "##  Linear congruent generator\n",
    "---"
   ]
  },
  {
   "cell_type": "markdown",
   "metadata": {},
   "source": [
    "The generation of pseudo-random numbers is used in many fields: in cryptography, in video games for texture creation, in simulation (for the Monte Carlo method for example), ... They have become more and more complex over the years to allow ciphers that are more and more difficult to crack. The increase of the computing power of computers has played a great role.\n",
    "\n",
    "We will focus here on one of the first pseudo-random number generators which is quite simple. It is written\n",
    "\n",
    "$$\n",
    "X_{n+1} = \\left( a X_n + c \\right) \\mod m\n",
    "$$\n",
    "\n",
    "where $a$ is the multiplier, $c$ the increment and $m$ the modulus.\n",
    "\n",
    "Write the algorithm to write the first 20 terms of the sequence by taking $a=25$, $c=16$ and $m=256$. We will take different values of $X_0$ called the \"seed\".\n",
    "\n",
    "- $X_0 = 125$\n",
    "- $X_0 = 96$\n",
    "- $X_0 = 50$\n",
    "- $X_0 = 10$"
   ]
  },
  {
   "cell_type": "markdown",
   "metadata": {},
   "source": [
    "**Possible answer**"
   ]
  },
  {
   "cell_type": "code",
   "execution_count": 27,
   "metadata": {},
   "outputs": [],
   "source": [
    "int a = 25;\n",
    "int c = 16;\n",
    "int m = 256;"
   ]
  },
  {
   "cell_type": "code",
   "execution_count": 28,
   "metadata": {},
   "outputs": [
    {
     "name": "stdout",
     "output_type": "stream",
     "text": [
      "With X0 = 125, the series is : 125 69 205 21 29 229 109 181 189 133 13 85 93 37 173 245 253 197 77 149 157 \n",
      "With X0 = 96, the series is : 96 112 0 16 160 176 64 80 224 240 128 144 32 48 192 208 96 112 0 16 160 \n",
      "With X0 = 50, the series is : 50 242 178 114 50 242 178 114 50 242 178 114 50 242 178 114 50 242 178 114 50 \n",
      "With X0 = 10, the series is : 10 10 10 10 10 10 10 10 10 10 10 10 10 10 10 10 10 10 10 10 10 \n"
     ]
    }
   ],
   "source": [
    "std::vector<int> x0{125, 96, 50, 10};\n",
    "\n",
    "for(std::size_t j = 0; j < x0.size(); ++j)\n",
    "{\n",
    "    std::cout << \"With X0 = \" << x0[j] << \", the series is : \";\n",
    "    \n",
    "    int x = x0[j];\n",
    "    std::cout << x << \" \";\n",
    "    for (std::size_t i=0; i<20; ++i)\n",
    "    {\n",
    "        x = (a*x + c)%m;\n",
    "        std::cout << x << \" \";\n",
    "    }\n",
    "    std::cout << std::endl;\n",
    "}"
   ]
  },
  {
   "cell_type": "markdown",
   "metadata": {},
   "source": [
    "We see that the choice of the coefficients $a$, $c$ and $m$ is important to have a good quality generator. One of the criteria of good quality is to be able to have all the values between $0$ and $m-1$ for any seed $X_0$. This is called maximizing the period of the generator.\n",
    "\n",
    "Now, the good thing about this generator is that the properties on $a$ and $c$ to get a period of $m$ are known.\n",
    "\n",
    "If $c \\neq 0$, the period of a linear congruential generator is maximal if and only if:\n",
    "\n",
    "- $c$ is prime with $m$. $gcd(c,m)=1$.\n",
    "- For each prime $p$ dividing $m$, $(a-1)$ is a multiple of $p$.\n",
    "- $(a-1)$ is a multiple of $4$ if $m$ is one.\n",
    "\n",
    "\n",
    "If $c=0$, the period of a linear congruential generator is maximal if :\n",
    "\n",
    "- $m$ is prime.\n",
    "- $a^{m-1}-1$ is a multiple of $m$.\n",
    "- $a^{j}-1$ is not divisible by $m$, for $j=1,\\cdots, m-2$. \n",
    "\n",
    "We can see that we need two ingredients to find optimal values of $a$ and $c$. First, we need to compute a $gcd$ (greatest common divisor). We can use Euclid's algortihm for this which is given by the following pseudo-code\n",
    "\n",
    "```\n",
    "function gcd(a, b)\n",
    "    while b ≠ 0\n",
    "        t := b\n",
    "        b := a mod b\n",
    "        a := t\n",
    "    return a\n",
    "```\n",
    "\n",
    "Since we haven't seen the functions yet, you will write this algorithm directly in a cell."
   ]
  },
  {
   "cell_type": "code",
   "execution_count": null,
   "metadata": {},
   "outputs": [],
   "source": []
  },
  {
   "cell_type": "markdown",
   "metadata": {},
   "source": [
    "Now that we can compute $gcd$, we need to find the primes that divide $m$. Write an algorithm that gives the prime numbers. We recall that a prime number is only divisible by itself and $1$."
   ]
  },
  {
   "cell_type": "code",
   "execution_count": null,
   "metadata": {},
   "outputs": [],
   "source": []
  },
  {
   "cell_type": "markdown",
   "metadata": {},
   "source": [
    "Find the values of $a$ and $c$ that allow to have an optimal period for the linear congruent generator. Let $a$ and $c$ be positive and less than $m$. We will separate the cases $c \\neq 0$ and $c=0$ and we will take respectively $m=24$ and $m=23$."
   ]
  },
  {
   "cell_type": "markdown",
   "metadata": {},
   "source": [
    "**Possible answer**"
   ]
  },
  {
   "cell_type": "markdown",
   "metadata": {},
   "source": [
    "For $c \\neq 0$"
   ]
  },
  {
   "cell_type": "code",
   "execution_count": 3,
   "metadata": {},
   "outputs": [
    {
     "name": "stdout",
     "output_type": "stream",
     "text": [
      "a = 1 c = 1 m = 24\n",
      "a = 13 c = 1 m = 24\n",
      "a = 1 c = 5 m = 24\n",
      "a = 13 c = 5 m = 24\n",
      "a = 1 c = 7 m = 24\n",
      "a = 13 c = 7 m = 24\n",
      "a = 1 c = 11 m = 24\n",
      "a = 13 c = 11 m = 24\n",
      "a = 1 c = 13 m = 24\n",
      "a = 13 c = 13 m = 24\n",
      "a = 1 c = 17 m = 24\n",
      "a = 13 c = 17 m = 24\n",
      "a = 1 c = 19 m = 24\n",
      "a = 13 c = 19 m = 24\n",
      "a = 1 c = 23 m = 24\n",
      "a = 13 c = 23 m = 24\n"
     ]
    }
   ],
   "source": [
    "std::size_t m = 24;\n",
    "\n",
    "// primes number that divide m\n",
    "std::vector<std::size_t> primes;\n",
    "for(std::size_t p=2; p<m; ++p)\n",
    "{\n",
    "    bool is_prime = true;\n",
    "    for(std::size_t i=2; i<p; ++i)\n",
    "    {\n",
    "        if (p%i == 0)\n",
    "        {\n",
    "            is_prime = false;\n",
    "            break;\n",
    "        }\n",
    "    }\n",
    "    if (is_prime and m%p == 0)\n",
    "    {\n",
    "        primes.push_back(p);\n",
    "    }\n",
    "}\n",
    "\n",
    "\n",
    "for(std::size_t c = 1; c < m; ++c)\n",
    "{\n",
    "    std::size_t m_tmp = m, c_tmp = c;\n",
    "    while (c_tmp != 0)\n",
    "    {\n",
    "        std::size_t t = c_tmp;\n",
    "        c_tmp = m_tmp%c_tmp;\n",
    "        m_tmp = t;\n",
    "    }\n",
    "    if (m_tmp == 1)\n",
    "    {\n",
    "        for(std::size_t a = 1; a < m; ++a)\n",
    "        {\n",
    "            bool good_choice = (m%4==0)? (a-1)%4==0: true;\n",
    "            for(std::size_t i = 0; i < primes.size(); ++i)\n",
    "            {\n",
    "                if ((a-1)%primes[i] != 0)\n",
    "                {\n",
    "                    good_choice = false;\n",
    "                    break;\n",
    "                }\n",
    "            }\n",
    "            if (good_choice)\n",
    "            {\n",
    "                std::cout << \"a = \" << a << \" c = \" << c << \" m = \" << m << std::endl;\n",
    "            }\n",
    "        }\n",
    "    }        \n",
    "}"
   ]
  },
  {
   "cell_type": "markdown",
   "metadata": {},
   "source": [
    "For $c=0$"
   ]
  },
  {
   "cell_type": "code",
   "execution_count": 30,
   "metadata": {},
   "outputs": [
    {
     "name": "stdout",
     "output_type": "stream",
     "text": [
      "a = 5, c = 0, m = 23\n"
     ]
    }
   ],
   "source": [
    "std::size_t m = 23;\n",
    "\n",
    "for(std::size_t a = 1; a < m; ++a)\n",
    "{\n",
    "    if (static_cast<std::size_t>(std::pow(a, m-1) - 1)%m == 0)\n",
    "    {\n",
    "        bool good_choice = true;\n",
    "        for(std::size_t j = 1; j < m-1; ++j)\n",
    "        {\n",
    "            if (static_cast<std::size_t>(std::pow(a, j) - 1)%m == 0)\n",
    "            {\n",
    "                good_choice = false;\n",
    "                break;\n",
    "            }\n",
    "        }\n",
    "        if (good_choice)\n",
    "        {\n",
    "            std::cout << \"a = \" << a << \", c = 0, m = \" << m << std::endl;\n",
    "        }\n",
    "    }\n",
    "}"
   ]
  },
  {
   "cell_type": "markdown",
   "metadata": {},
   "source": [
    "We will check for some values found that the period is indeed optimal."
   ]
  },
  {
   "cell_type": "code",
   "execution_count": 31,
   "metadata": {},
   "outputs": [
    {
     "name": "stdout",
     "output_type": "stream",
     "text": [
      "With X0 = 0, the series is : 0 0 0 0 0 0 0 0 0 0 0 0 0 0 0 0 0 0 0 0 0 0 0 0 0 0 0 0 0 0 0 \n",
      "With X0 = 1, the series is : 1 5 2 10 4 20 8 17 16 11 9 22 18 21 13 19 3 15 6 7 12 14 1 5 2 10 4 20 8 17 16 \n",
      "With X0 = 2, the series is : 2 10 4 20 8 17 16 11 9 22 18 21 13 19 3 15 6 7 12 14 1 5 2 10 4 20 8 17 16 11 9 \n",
      "With X0 = 3, the series is : 3 15 6 7 12 14 1 5 2 10 4 20 8 17 16 11 9 22 18 21 13 19 3 15 6 7 12 14 1 5 2 \n",
      "With X0 = 4, the series is : 4 20 8 17 16 11 9 22 18 21 13 19 3 15 6 7 12 14 1 5 2 10 4 20 8 17 16 11 9 22 18 \n",
      "With X0 = 5, the series is : 5 2 10 4 20 8 17 16 11 9 22 18 21 13 19 3 15 6 7 12 14 1 5 2 10 4 20 8 17 16 11 \n",
      "With X0 = 6, the series is : 6 7 12 14 1 5 2 10 4 20 8 17 16 11 9 22 18 21 13 19 3 15 6 7 12 14 1 5 2 10 4 \n",
      "With X0 = 7, the series is : 7 12 14 1 5 2 10 4 20 8 17 16 11 9 22 18 21 13 19 3 15 6 7 12 14 1 5 2 10 4 20 \n",
      "With X0 = 8, the series is : 8 17 16 11 9 22 18 21 13 19 3 15 6 7 12 14 1 5 2 10 4 20 8 17 16 11 9 22 18 21 13 \n",
      "With X0 = 9, the series is : 9 22 18 21 13 19 3 15 6 7 12 14 1 5 2 10 4 20 8 17 16 11 9 22 18 21 13 19 3 15 6 \n",
      "With X0 = 10, the series is : 10 4 20 8 17 16 11 9 22 18 21 13 19 3 15 6 7 12 14 1 5 2 10 4 20 8 17 16 11 9 22 \n",
      "With X0 = 11, the series is : 11 9 22 18 21 13 19 3 15 6 7 12 14 1 5 2 10 4 20 8 17 16 11 9 22 18 21 13 19 3 15 \n",
      "With X0 = 12, the series is : 12 14 1 5 2 10 4 20 8 17 16 11 9 22 18 21 13 19 3 15 6 7 12 14 1 5 2 10 4 20 8 \n",
      "With X0 = 13, the series is : 13 19 3 15 6 7 12 14 1 5 2 10 4 20 8 17 16 11 9 22 18 21 13 19 3 15 6 7 12 14 1 \n",
      "With X0 = 14, the series is : 14 1 5 2 10 4 20 8 17 16 11 9 22 18 21 13 19 3 15 6 7 12 14 1 5 2 10 4 20 8 17 \n",
      "With X0 = 15, the series is : 15 6 7 12 14 1 5 2 10 4 20 8 17 16 11 9 22 18 21 13 19 3 15 6 7 12 14 1 5 2 10 \n",
      "With X0 = 16, the series is : 16 11 9 22 18 21 13 19 3 15 6 7 12 14 1 5 2 10 4 20 8 17 16 11 9 22 18 21 13 19 3 \n",
      "With X0 = 17, the series is : 17 16 11 9 22 18 21 13 19 3 15 6 7 12 14 1 5 2 10 4 20 8 17 16 11 9 22 18 21 13 19 \n",
      "With X0 = 18, the series is : 18 21 13 19 3 15 6 7 12 14 1 5 2 10 4 20 8 17 16 11 9 22 18 21 13 19 3 15 6 7 12 \n",
      "With X0 = 19, the series is : 19 3 15 6 7 12 14 1 5 2 10 4 20 8 17 16 11 9 22 18 21 13 19 3 15 6 7 12 14 1 5 \n",
      "With X0 = 20, the series is : 20 8 17 16 11 9 22 18 21 13 19 3 15 6 7 12 14 1 5 2 10 4 20 8 17 16 11 9 22 18 21 \n",
      "With X0 = 21, the series is : 21 13 19 3 15 6 7 12 14 1 5 2 10 4 20 8 17 16 11 9 22 18 21 13 19 3 15 6 7 12 14 \n",
      "With X0 = 22, the series is : 22 18 21 13 19 3 15 6 7 12 14 1 5 2 10 4 20 8 17 16 11 9 22 18 21 13 19 3 15 6 7 \n"
     ]
    }
   ],
   "source": [
    "int a = 5, c = 0, m = 23;\n",
    "for(std::size_t j = 0; j < m; ++j)\n",
    "{\n",
    "    std::cout << \"With X0 = \" << j << \", the series is : \";\n",
    "    \n",
    "    int x = j;\n",
    "    std::cout << x << \" \";\n",
    "    for (std::size_t i=0; i<30; ++i)\n",
    "    {\n",
    "        x = (a*x + c)%m;\n",
    "        std::cout << x << \" \";\n",
    "    }\n",
    "    std::cout << std::endl;\n",
    "}"
   ]
  },
  {
   "cell_type": "markdown",
   "metadata": {},
   "source": [
    "## Cycle search\n",
    "---"
   ]
  },
  {
   "cell_type": "markdown",
   "metadata": {},
   "source": [
    "During the construction of a pseudo-random number generator, we saw that it was important to have a maximal period, that is equal to $m$. We would like to know for a set of parameters $a$, $c$, $m$ and $X_0$ what the period is and check that it is optimal.\n",
    "\n",
    "To do this, we will implement different algortihms that search for cycles in a recurrent sequence of numbers."
   ]
  },
  {
   "cell_type": "markdown",
   "metadata": {},
   "source": [
    "### Floyd algorithm"
   ]
  },
  {
   "cell_type": "markdown",
   "metadata": {},
   "source": [
    "Floyd's cycle detection algorithm is based on the following property: if the sequence admits a cycle, then there exists an index $i$ with $a_{i}=a_{2i}$ and $\\mu \\leq i \\leq \\mu + \\lambda$. Thus, the algorithm consists in going through the sequence simultaneously at two different speeds: at speed 1 for the tortoise and at speed 2 for the hare. In other words, the algorithm inspects the pairs:\n",
    "\n",
    "($a_1$, $a_2$), ($a_2$, $a_4$), ($a_3$, $a_6$), ($a_4$, $a_8$), etc.\n",
    "\n",
    "The algorithm finds the first index $i$ such that $a_{i}=a_{2i}$. From then on, $2 i - i = i$ is a multiple of the length of the cycle $\\lambda$.\n",
    "\n",
    "To determine the exact value of $\\lambda$, we just have to run the algorithm again from $i+1$, until we find another number $i_{1}$ such that $a_{i_{1}}=a_{2{i_{1}}}$. From then on we have on the one hand $i_{1} \\leq i + \\lambda$ (because we then find $a_{i}$) and on the other hand $\\lambda$ which divides $i_{1}-i$ (because it divides $i$ and $i_{1}$), therefore $\\lambda = i_{1}-i$.\n",
    "\n",
    "We will apply this algorithm to the linear congruential generator where the sequence is given by\n",
    "\n",
    "$$\n",
    "X_{n+1} = f(X_n) = (aX_n + c) \\mod m.\n",
    "$$\n",
    "\n",
    "The pseudo-code to find the index $i$ in the cycle can be written as\n",
    "\n",
    "```\n",
    "i := 1\n",
    "tortoise := f(x0)\n",
    "hare := f(f(x0))\n",
    "\n",
    "while tortoise != hare\n",
    "    tortoise := f(tortoise)\n",
    "    hare := f(f(hare))\n",
    "    i := i + 1\n",
    "```\n",
    "\n",
    "Write this algorithm in C++."
   ]
  },
  {
   "cell_type": "code",
   "execution_count": null,
   "metadata": {},
   "outputs": [],
   "source": []
  },
  {
   "cell_type": "markdown",
   "metadata": {},
   "source": [
    "**Possible answer**"
   ]
  },
  {
   "cell_type": "code",
   "execution_count": 32,
   "metadata": {},
   "outputs": [],
   "source": [
    "int a = 25;\n",
    "int c = 16;\n",
    "int m = 256;"
   ]
  },
  {
   "cell_type": "code",
   "execution_count": 33,
   "metadata": {},
   "outputs": [],
   "source": [
    "std::size_t x0 = 50;\n",
    "std::size_t lambda;"
   ]
  },
  {
   "cell_type": "code",
   "execution_count": 34,
   "metadata": {},
   "outputs": [],
   "source": [
    "std::size_t tortoise = (a*x0 + c)%m;\n",
    "std::size_t hare = (a*((a*x0 + c)%m) + c)%m;\n",
    "\n",
    "while (tortoise != hare)\n",
    "{\n",
    "    tortoise = (a*tortoise + c)%m;\n",
    "    hare = (a*((a*hare + c)%m) + c)%m;\n",
    "}"
   ]
  },
  {
   "cell_type": "markdown",
   "metadata": {},
   "source": [
    "We can now find the period $i_{1}$ by repeating the process from $i + 1$ until we find another number $i_{1}$ such that $a_{i_{1}}=a_{2{i_{1}}}$."
   ]
  },
  {
   "cell_type": "code",
   "execution_count": null,
   "metadata": {},
   "outputs": [],
   "source": []
  },
  {
   "cell_type": "markdown",
   "metadata": {},
   "source": [
    "**Possible answer**"
   ]
  },
  {
   "cell_type": "code",
   "execution_count": 35,
   "metadata": {},
   "outputs": [],
   "source": [
    "std::size_t lambda = 0;\n",
    "\n",
    "do\n",
    "{\n",
    "    lambda++;\n",
    "    tortoise = (a*tortoise + c)%m;\n",
    "    hare = (a*((a*hare + c)%m) + c)%m;\n",
    "}while (tortoise != hare);"
   ]
  },
  {
   "cell_type": "code",
   "execution_count": 36,
   "metadata": {},
   "outputs": [
    {
     "data": {
      "text/plain": [
       "4"
      ]
     },
     "execution_count": 36,
     "metadata": {},
     "output_type": "execute_result"
    }
   ],
   "source": [
    "lambda"
   ]
  },
  {
   "cell_type": "markdown",
   "metadata": {},
   "source": [
    "### Brent algorithm"
   ]
  },
  {
   "cell_type": "markdown",
   "metadata": {},
   "source": [
    "Richard P. Brent has described another cycle detection algorithm which, like the tortoise and hare algorithm, requires only two pointers in the sequence. However, it is based on a different principle: finding the smallest power of two $2^i$ that is greater than $\\lambda$ and $\\mu$. For $i = 0, 1, 2, \\cdots$, the algorithm compares $x_{2^i-1}$ with each subsequent sequence value up to the next power of two, stopping when it finds a match. It has two advantages over the hare and tortoise algorithm: it finds the correct length $\\lambda$ of the cycle directly, without having to search for it in a later step, and its steps involve only one evaluation of $f$ instead of three in the case of Floyd's algorithm. \n",
    "\n",
    "The pseudo-code is as follows\n",
    "\n",
    "```\n",
    "lambda := 1\n",
    "power := 1\n",
    "tortoise := x0\n",
    "hare := f(x0)\n",
    "while tortoise != hare\n",
    "    if power == lambda\n",
    "        tortoise := hare\n",
    "        power := 2*power\n",
    "        lambda := 0\n",
    "        \n",
    "    hare := f(hare)\n",
    "    lambda := lambda + 1\n",
    "```\n",
    "\n",
    "Write this algorithm in C++."
   ]
  },
  {
   "cell_type": "code",
   "execution_count": null,
   "metadata": {},
   "outputs": [],
   "source": []
  },
  {
   "cell_type": "markdown",
   "metadata": {},
   "source": [
    "**Possible answer**"
   ]
  },
  {
   "cell_type": "code",
   "execution_count": 41,
   "metadata": {},
   "outputs": [],
   "source": [
    "std::size_t power = lambda = 1;\n",
    "tortoise = x0;\n",
    "hare = (a*x0 + c)%m;\n",
    "while (tortoise != hare)\n",
    "{\n",
    "    if (power == lambda)\n",
    "    {\n",
    "        tortoise = hare;\n",
    "        power <<= 1;\n",
    "        lambda = 0;\n",
    "    }\n",
    "    hare = (a*hare + c)%m;\n",
    "    lambda++;\n",
    "}"
   ]
  },
  {
   "cell_type": "code",
   "execution_count": 42,
   "metadata": {},
   "outputs": [
    {
     "data": {
      "text/plain": [
       "4"
      ]
     },
     "execution_count": 42,
     "metadata": {},
     "output_type": "execute_result"
    }
   ],
   "source": [
    "lambda"
   ]
  },
  {
   "cell_type": "markdown",
   "metadata": {},
   "source": [
    "## Verification\n",
    "---"
   ]
  },
  {
   "cell_type": "markdown",
   "metadata": {},
   "source": [
    "Check that the values found for $a$, $c$, and $m$ give a maximal period for any value of seed."
   ]
  },
  {
   "cell_type": "code",
   "execution_count": null,
   "metadata": {},
   "outputs": [],
   "source": []
  }
 ],
 "metadata": {
  "kernelspec": {
   "display_name": "C++14",
   "language": "C++14",
   "name": "xcpp14"
  },
  "language_info": {
   "codemirror_mode": "text/x-c++src",
   "file_extension": ".cpp",
   "mimetype": "text/x-c++src",
   "name": "c++",
   "version": "14"
  },
  "widgets": {
   "application/vnd.jupyter.widget-state+json": {
    "state": {},
    "version_major": 2,
    "version_minor": 0
   }
  }
 },
 "nbformat": 4,
 "nbformat_minor": 4
}
