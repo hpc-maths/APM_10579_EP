{
 "cells": [
  {
   "cell_type": "markdown",
   "id": "79b6769c-fc26-497c-847c-2b930a920c0f",
   "metadata": {},
   "source": [
    "# Compilation"
   ]
  },
  {
   "cell_type": "markdown",
   "id": "fb13354c-ebed-4346-ba83-32fc58f91137",
   "metadata": {},
   "source": [
    "As you know, C++ is a compiled language. Since the beginning, you have used it as an interpreter language through the jupyter notebooks using xeus-cling. The further we go in this course, the more we will build applications requiring a finer structuring of the code, which will need to be split into several files. It is then no longer possible to use xeus-cling. So we will have to understand this compilation process to go further.\n",
    "\n",
    "In Jupyter notebooks, it is possible to create files by adding the magic `%%file filename` at the top of the cell. In the same way, it is possible to launch system commands by starting the cell with `!`.\n",
    "\n",
    "**Caution:** there must be only one line in the cell.\n",
    "\n",
    "## First compilation\n",
    "\n",
    "Let's create our first C++ script."
   ]
  },
  {
   "cell_type": "code",
   "execution_count": null,
   "id": "77d2a7c9-2a7e-4d54-8b80-d49744f73fd2",
   "metadata": {},
   "outputs": [],
   "source": [
    "%%file first_compil.cpp\n",
    "#include <iostream>\n",
    "#include <vector>\n",
    "\n",
    "void print(const std::vector<double>& v)\n",
    "{\n",
    "    for(auto& e: v)\n",
    "    {\n",
    "        std::cout << e << \" \";\n",
    "    }\n",
    "    std::cout << std::endl; \n",
    "}\n",
    "\n",
    "int main()\n",
    "{\n",
    "    std::vector<double> v{1.2, 4.2, 1.6};\n",
    "    print(v);\n",
    "    return 0;\n",
    "}"
   ]
  },
  {
   "cell_type": "markdown",
   "id": "9672286a-2fba-47c8-93b3-395c03490e7a",
   "metadata": {},
   "source": [
    "You can compile the program using the following command"
   ]
  },
  {
   "cell_type": "code",
   "execution_count": null,
   "id": "50db115c-76e5-4c95-bec1-2737b9e2f568",
   "metadata": {},
   "outputs": [],
   "source": [
    "! g++ first_compil.cpp"
   ]
  },
  {
   "cell_type": "markdown",
   "id": "4c1bfd0b-c38b-4256-91e6-e2942c6d8bc0",
   "metadata": {},
   "source": [
    "Let's see what has been created"
   ]
  },
  {
   "cell_type": "code",
   "execution_count": null,
   "id": "ac08789b-e9e2-4ffb-bc6b-c4a853e876e6",
   "metadata": {},
   "outputs": [],
   "source": [
    "! ls -l"
   ]
  },
  {
   "cell_type": "markdown",
   "id": "ac2cbe8b-0247-4a98-9621-d42728396655",
   "metadata": {},
   "source": [
    "We can see that the file `a.out` has been created and this file is an executable. "
   ]
  },
  {
   "cell_type": "code",
   "execution_count": null,
   "id": "cb00311f-328e-4e70-8812-07a3b933edc6",
   "metadata": {},
   "outputs": [],
   "source": [
    "! ./a.out"
   ]
  },
  {
   "cell_type": "markdown",
   "id": "3c241b12-e03a-40a2-9345-52488ff1b576",
   "metadata": {},
   "source": [
    "You can specify the name of the executable using the option `-o`."
   ]
  },
  {
   "cell_type": "code",
   "execution_count": null,
   "id": "4d9945c3-3ffc-4ce8-b177-8c90dca84c7f",
   "metadata": {},
   "outputs": [],
   "source": [
    "! g++ first_compil.cpp -o my_exe"
   ]
  },
  {
   "cell_type": "code",
   "execution_count": null,
   "id": "f5564394-9a5c-47d6-95c3-95820d82b798",
   "metadata": {},
   "outputs": [],
   "source": [
    "! ls -l"
   ]
  },
  {
   "cell_type": "code",
   "execution_count": null,
   "id": "8951e3f6-92dd-4cee-aaf8-f85b0c57c8e9",
   "metadata": {},
   "outputs": [],
   "source": [
    "! ./my_exe"
   ]
  },
  {
   "cell_type": "markdown",
   "id": "9ef69095-1a09-4c75-84ca-a47b67a5f7e2",
   "metadata": {},
   "source": [
    "## Compilation flags and multiple source files"
   ]
  },
  {
   "cell_type": "markdown",
   "id": "d03c63a9-ef79-4c1c-a55b-cc14b2ece0fe",
   "metadata": {},
   "source": [
    "Your project is growing and you now want to split it into several thematic files in order to gain readability. The main program is"
   ]
  },
  {
   "cell_type": "code",
   "execution_count": null,
   "id": "2b38254f-46d9-40f3-903e-21c9be3e8698",
   "metadata": {},
   "outputs": [],
   "source": [
    "%%file main.cpp\n",
    "\n",
    "#include<iostream>\n",
    "\n",
    "int main()\n",
    "{\n",
    "    auto x = linspace(0, 1, 10);\n",
    "    auto y = gaussian(0, 1, 10);\n",
    "    auto z = add(x, y);\n",
    "    \n",
    "    std::cout << \"c -> \" << e << std::endl;\n",
    "    return 0;\n",
    "}"
   ]
  },
  {
   "cell_type": "markdown",
   "id": "78601cb6-2282-4d3d-952d-ac957d045dde",
   "metadata": {},
   "source": [
    "And the other files are."
   ]
  },
  {
   "cell_type": "code",
   "execution_count": null,
   "id": "eaa44509-0b3a-4492-a01e-6b3060372ff6",
   "metadata": {},
   "outputs": [],
   "source": [
    "%%file linspace.hpp\n",
    "// add linspace declaration"
   ]
  },
  {
   "cell_type": "code",
   "execution_count": null,
   "id": "d498a5b2-d364-449a-9a95-a3e0283e8912",
   "metadata": {},
   "outputs": [],
   "source": [
    "%%file linspace.cpp\n",
    "// add linspace definition"
   ]
  },
  {
   "cell_type": "code",
   "execution_count": null,
   "id": "4ef5efb3-20ef-4ae8-b4ab-9b7637806e7b",
   "metadata": {},
   "outputs": [],
   "source": [
    "%%file gaussian.hpp\n",
    "// add gaussian declaration"
   ]
  },
  {
   "cell_type": "code",
   "execution_count": null,
   "id": "182ec334-dd5b-4fb2-bf58-5494f80d087f",
   "metadata": {},
   "outputs": [],
   "source": [
    "%%file gaussian.cpp\n",
    "\n",
    "auto gaussian(double begin, double end, std::size_t n)\n",
    "{\n",
    "    auto x = linspace(begin, end, n);\n",
    "    double middle = .5*(end - begin);\n",
    "    std::vector<double> y(x.size());\n",
    "    std::transform(x.cbegin(), x.cend(), y.begin(), [middle](auto v){return std::exp(-100*((v-middle)*(v-middle));};\n",
    "    return y;\n",
    "}"
   ]
  },
  {
   "cell_type": "code",
   "execution_count": null,
   "id": "001fe03f-61ee-49cf-9125-4e5f30dde69c",
   "metadata": {},
   "outputs": [],
   "source": [
    "%%file operator.hpp\n",
    "\n",
    "namespace operator\n",
    "{\n",
    "    auto add(const array_t& x, const array_t& y);\n",
    "}\n"
   ]
  },
  {
   "cell_type": "code",
   "execution_count": null,
   "id": "54987953-4ec1-4624-be03-38ad43dd14dc",
   "metadata": {},
   "outputs": [],
   "source": [
    "%%file operator.cpp\n",
    "// add the implementation of the operator add"
   ]
  },
  {
   "cell_type": "markdown",
   "id": "beac0ff7-9232-49d2-b54c-b65692162962",
   "metadata": {},
   "source": [
    "The command line to build this application is"
   ]
  },
  {
   "cell_type": "code",
   "execution_count": null,
   "id": "bd5ea9cf-00c0-4e34-9447-8b3170052561",
   "metadata": {},
   "outputs": [],
   "source": [
    "! gcc main.cpp linspace.cpp gaussian.cpp operator.cpp -o my_app"
   ]
  },
  {
   "cell_type": "code",
   "execution_count": null,
   "id": "5fc51265-6448-4f2c-8f63-d4b7723dc30a",
   "metadata": {},
   "outputs": [],
   "source": [
    "! ./my_app"
   ]
  },
  {
   "cell_type": "markdown",
   "id": "d26e9342-fb62-4673-9d0c-f1f425d3cd58",
   "metadata": {},
   "source": [
    "Make the necessary changes for this program to compile and run correctly.\n",
    "\n",
    "Create a CMakeLists.txt that builds `my_app`"
   ]
  },
  {
   "cell_type": "markdown",
   "id": "d655e57e-ecf2-42ec-b203-71bde01080fe",
   "metadata": {},
   "source": [
    "## Compilation flags"
   ]
  },
  {
   "cell_type": "markdown",
   "id": "0eb87c7c-cbec-4d53-879d-8f2bc9dfe113",
   "metadata": {},
   "source": [
    "Each compiler has a huge list of options."
   ]
  },
  {
   "cell_type": "code",
   "execution_count": null,
   "id": "765bd419-c32c-4e0f-8920-167909b1e2b7",
   "metadata": {},
   "outputs": [],
   "source": [
    "! man gcc"
   ]
  },
  {
   "cell_type": "markdown",
   "id": "4ad012de-b472-4ba1-8b83-614223f71875",
   "metadata": {},
   "source": [
    "When you implement numerical methods to simulate physical phenomena, you want your application runs fast or be able to debug it.\n",
    "    \n",
    "The `-g` option allows the compiler to annotate your code. You can then debug it using an external tool such as [gdb](https://www.sourceware.org/gdb/).\n",
    "\n",
    "A compiler have many recipes to optimize your code. By default, the optimzations are not activated. The compilation flag is `-O` followed by the level of the optimization 1, 2, or 3.\n",
    "\n",
    "For more information about what the compiler performs during these steps, see [optimize options](https://gcc.gnu.org/onlinedocs/gcc/Optimize-Options.html).\n",
    "\n",
    "Let's take an example to see the benefit of such optimzation."
   ]
  },
  {
   "cell_type": "code",
   "execution_count": 27,
   "id": "22262619-2df2-453e-954c-f3642d8acde6",
   "metadata": {},
   "outputs": [
    {
     "name": "stdout",
     "output_type": "stream",
     "text": [
      "Overwriting test_optimize_options.cpp\n"
     ]
    }
   ],
   "source": [
    "%%file test_optimize_options.cpp\n",
    "\n",
    "#include <array>\n",
    "#include <vector>\n",
    "#include <iostream>\n",
    "\n",
    "int main()\n",
    "{\n",
    "    constexpr std::size_t n = 10000;\n",
    "    std::vector<std::array<double, n>> a(n), b(n), c(n);\n",
    "    \n",
    "    for(std::size_t i = 0; i < n; ++i)\n",
    "    {\n",
    "        for(std::size_t j = 0; j < n; ++j)\n",
    "        {\n",
    "            c[i][j] = a[i][j] + b[i][j];\n",
    "        }\n",
    "    }\n",
    "    std::cout << c[0][0] << std::endl;\n",
    "    return 0;\n",
    "}"
   ]
  },
  {
   "cell_type": "code",
   "execution_count": 28,
   "id": "26aa7724-b5a5-4479-81da-aba65135a0d3",
   "metadata": {},
   "outputs": [],
   "source": [
    "! g++ test_optimize_options.cpp"
   ]
  },
  {
   "cell_type": "markdown",
   "id": "0aec4819-4546-4b7d-bd81-150d8daa31d1",
   "metadata": {},
   "source": [
    "We measure the exectution time with the system command `time`"
   ]
  },
  {
   "cell_type": "code",
   "execution_count": 29,
   "id": "98a53604-d719-4536-abdf-e5502681a5e0",
   "metadata": {},
   "outputs": [
    {
     "name": "stdout",
     "output_type": "stream",
     "text": [
      "0\n",
      "2.18user 0.67system 0:02.91elapsed 98%CPU (0avgtext+0avgdata 2346600maxresident)k\n",
      "0inputs+0outputs (0major+586099minor)pagefaults 0swaps\n"
     ]
    }
   ],
   "source": [
    "! time ./a.out"
   ]
  },
  {
   "cell_type": "markdown",
   "id": "2ceaf516-5342-4e4c-b8d4-b2f6020cd36a",
   "metadata": {},
   "source": [
    "Invert the loop and see what happens."
   ]
  },
  {
   "cell_type": "markdown",
   "id": "edc76793-cc0a-4801-bea4-7e8ff48da960",
   "metadata": {},
   "source": [
    "## Code organization"
   ]
  },
  {
   "cell_type": "markdown",
   "id": "af6b2a5b-f751-4b20-a54d-31b6adfc84da",
   "metadata": {},
   "source": [
    "A colleague has been working on a generative art project. He is very enthusiastic and would like to distribute what he has done. You realize that it's just a C++ file and that it would be nice to split it up to make it a bit more modular and add a build process using cmake.\n",
    "The file is called `splinart.cpp`.\n",
    "\n",
    "The code organization should be as follows\n",
    "\n",
    "<center>\n",
    "<img src=\"./figures/orga.png\"/>\n",
    "</center>\n",
    "\n",
    "And the functions will be in the following namespaces\n",
    "\n",
    "- `spline` and `splint` into `art::spline` and `searchsorted` into `art::spline::algorithm`\n",
    "- `linespace` and `line` into `art::shape`\n",
    "- `update_path` into `art::core`\n",
    "- `generative` into `art`\n",
    "\n",
    "Create this project with this organization using the implementation found in `splinart.cpp`."
   ]
  },
  {
   "cell_type": "markdown",
   "id": "0e1b110f-75df-4aba-a7e5-ddb2e5d20a77",
   "metadata": {},
   "source": [
    "Your colleague is very happy with what you have done and would now like to see the results. So you suggest to add a dependency to [opencv](https://opencv.org/) to save the results as images.\n",
    "\n",
    "Modify the `CMakeLists.txt` in the root directory and add the opencv dependency as follows\n",
    "\n",
    "```\n",
    "find_package(OpenCV REQUIRED)\n",
    "```\n",
    "\n",
    "And when you build the library, `${OpenCV_LIBS}` must be added during the link.\n",
    "\n",
    "`main.cpp` in examples directory becomes"
   ]
  },
  {
   "cell_type": "code",
   "execution_count": null,
   "id": "ffc977ec-9e07-4b70-bc48-4c56f7c0e368",
   "metadata": {},
   "outputs": [],
   "source": [
    "#include <vector>\n",
    "#include <random>\n",
    "#include <tuple>\n",
    "#include <algorithm>\n",
    "#include <generative/core.hpp>\n",
    "#include <generative/shape.hpp>\n",
    "\n",
    "auto init_colors(std::size_t n)\n",
    "{\n",
    "    std::random_device rd;\n",
    "    std::mt19937 gen(rd());\n",
    "    std::uniform_int_distribution<> dis(0, 255);\n",
    "\n",
    "    std::vector<std::array<uchar, 4>> color(n);\n",
    "\n",
    "    for(std::size_t i=0; i<n; ++i)\n",
    "    {\n",
    "        for(std::size_t c=0; c<3; ++c)\n",
    "        {\n",
    "            color[i][c] = dis(gen);\n",
    "        }\n",
    "        color[i][3] = 1;\n",
    "    }\n",
    "    return color;\n",
    "}\n",
    "\n",
    "int main()\n",
    "{\n",
    "    std::size_t nb_lines = 10;\n",
    "    std::vector<art::array_t> x(nb_lines), y(nb_lines);\n",
    "\n",
    "    double lo = .2, up = .8;\n",
    "    std::size_t npoints = 15;\n",
    "\n",
    "    auto yy = art::shape::linspace(lo, up, nb_lines);\n",
    "    for(std::size_t i = 0; i < x.size(); ++i)\n",
    "    {\n",
    "        std::tie(x[i], y[i]) = art::shape::line(lo, up, yy[i], npoints);\n",
    "        npoints++;\n",
    "    }\n",
    "\n",
    "    auto colors = init_colors(nb_lines);\n",
    "\n",
    "    auto xs_func = [lo, up]()\n",
    "    {\n",
    "        std::random_device rd;\n",
    "        std::mt19937 gen(rd());\n",
    "        std::uniform_real_distribution<> dis(0., 1.);\n",
    "\n",
    "        std::size_t nsamples = 500;\n",
    "        auto x = art::shape::linspace(lo + .05, up - .05, nsamples);\n",
    "        std::for_each(x.begin(), x.end(), [&dis, &gen](double& e){ e += 1e-3*dis(gen);});\n",
    "        return x;\n",
    "    };\n",
    "\n",
    "    cv::Mat img(1000, 1000, CV_8UC4);\n",
    "    for(std::size_t i = 0; i < x.size(); ++i)\n",
    "    {\n",
    "        art::generative_art(img, x[i], y[i], xs_func, 1000, colors[i]);\n",
    "    }\n",
    "    cv::imwrite(\"output.png\", img);\n",
    "\n",
    "    return 0;\n",
    "}"
   ]
  },
  {
   "cell_type": "markdown",
   "id": "2f28d39b-5f94-472a-a2bb-1bd411c6a229",
   "metadata": {},
   "source": [
    "Use the following code to see the output."
   ]
  },
  {
   "cell_type": "code",
   "execution_count": null,
   "id": "5e6d77fa-7280-4307-98f4-3291c7ef7e47",
   "metadata": {},
   "outputs": [],
   "source": [
    "#include <string>\n",
    "#include <fstream>\n",
    "\n",
    "#include \"nlohmann/json.hpp\"\n",
    "\n",
    "#include \"xtl/xbase64.hpp\"\n",
    "\n",
    "namespace nl = nlohmann;\n",
    "\n",
    "namespace im\n",
    "{\n",
    "    struct image\n",
    "    {   \n",
    "        inline image(const std::string& filename)\n",
    "        {\n",
    "            std::ifstream fin(filename, std::ios::binary);   \n",
    "            m_buffer << fin.rdbuf();\n",
    "        }\n",
    "        \n",
    "        std::stringstream m_buffer;\n",
    "    };\n",
    "    \n",
    "    nl::json mime_bundle_repr(const image& i)\n",
    "    {\n",
    "        auto bundle = nl::json::object();\n",
    "        bundle[\"image/png\"] = xtl::base64encode(i.m_buffer.str());\n",
    "        return bundle;\n",
    "    }\n",
    "}"
   ]
  },
  {
   "cell_type": "code",
   "execution_count": null,
   "id": "a6bacbc4-0f85-4d8f-b1df-de16921405ee",
   "metadata": {},
   "outputs": [],
   "source": [
    "im::image picture(\"../cpp/splinart/step_2/build/output.png\");\n",
    "picture"
   ]
  },
  {
   "cell_type": "code",
   "execution_count": null,
   "id": "1cfb4bab-0e2d-479f-aa14-a5c60abbce50",
   "metadata": {},
   "outputs": [],
   "source": []
  }
 ],
 "metadata": {
  "kernelspec": {
   "display_name": "C++14",
   "language": "C++14",
   "name": "xcpp14"
  },
  "language_info": {
   "codemirror_mode": "text/x-c++src",
   "file_extension": ".cpp",
   "mimetype": "text/x-c++src",
   "name": "c++",
   "version": "14"
  },
  "widgets": {
   "application/vnd.jupyter.widget-state+json": {
    "state": {},
    "version_major": 2,
    "version_minor": 0
   }
  }
 },
 "nbformat": 4,
 "nbformat_minor": 5
}
